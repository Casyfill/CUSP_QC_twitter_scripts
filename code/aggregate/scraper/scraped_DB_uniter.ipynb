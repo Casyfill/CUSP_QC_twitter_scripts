{
 "cells": [
  {
   "cell_type": "code",
   "execution_count": 15,
   "metadata": {
    "collapsed": false
   },
   "outputs": [
    {
     "name": "stdout",
     "output_type": "stream",
     "text": [
      "Populating the interactive namespace from numpy and matplotlib\n"
     ]
    }
   ],
   "source": [
    "__author__ = \"me\"\n",
    "__date__ = \"2016_02_01\"\n",
    "\n",
    "%pylab inline\n",
    "import sqlite3\n",
    "import datetime\n",
    "import dateutil.parser\n",
    "import os\n",
    "import ast\n"
   ]
  },
  {
   "cell_type": "code",
   "execution_count": 16,
   "metadata": {
    "collapsed": true
   },
   "outputs": [],
   "source": [
    "\n",
    "def getFiles(folder, format, full=True, filtr=None):\n",
    "    for f in os.listdir(folder):\n",
    "        if f.endswith(format):\n",
    "            if filtr==None or filtr not in f:\n",
    "                if full:\n",
    "                    yield os.path.join(folder, f)\n",
    "                else:\n",
    "                    yield f"
   ]
  },
  {
   "cell_type": "code",
   "execution_count": 17,
   "metadata": {
    "collapsed": true
   },
   "outputs": [],
   "source": [
    "def getSQLiteTweets(path):\n",
    "    conn = sqlite3.connect(path)\n",
    "    df = conn.cursor().execute('SELECT id, tweet, geo, timestamp, user_id FROM tweets').fetchall() ## all but raw data\n",
    "    conn.close()\n",
    "    return df"
   ]
  },
  {
   "cell_type": "code",
   "execution_count": 4,
   "metadata": {
    "collapsed": false
   },
   "outputs": [],
   "source": [
    "def parseRow(row, ID='?'):\n",
    "    '''parse row to the defined schema'''\n",
    "    try:\n",
    "        geo =  ast.literal_eval(row[2])['coordinates']              # some don't have geocoordinates\n",
    "        return (int(row[0]),                                        # tweet id\n",
    "                int(dateutil.parser.parse(row[3]).strftime(\"%s\")),  # timestamp\n",
    "                geo[0],                                             # lon (geo)\n",
    "                geo[1],                                             # lat (geo)\n",
    "                row[1],                                             # text body\n",
    "                int(row[4]),                                        # user id\n",
    "                None,                                               # retweets count\n",
    "                None,                                               # favorites count\n",
    "                None,                                               # source app count\n",
    "                ID                                                  # source_scraper\n",
    "                )\n",
    "    except:\n",
    "        pass\n"
   ]
  },
  {
   "cell_type": "code",
   "execution_count": 9,
   "metadata": {
    "collapsed": true
   },
   "outputs": [],
   "source": [
    "def parseDB(path):\n",
    "    db = getSQLiteTweets(path)\n",
    "    \n",
    "    ID=unicode(path.split('/')[-1])\n",
    "    \n",
    "    result = []\n",
    "    for x in db:\n",
    "        i = parseRow(x, ID=ID)\n",
    "        if i!=None:\n",
    "            result.append(i)\n",
    "    return result"
   ]
  },
  {
   "cell_type": "code",
   "execution_count": 7,
   "metadata": {
    "collapsed": true
   },
   "outputs": [],
   "source": [
    "tweetE = '''CREATE TABLE IF NOT EXISTS tweets (id INTEGER PRIMARY KEY, \n",
    "                                               timestamp INTEGER, \n",
    "                                               lon REAL, lat REAL, \n",
    "                                               tweet TEXT, \n",
    "                                               user_id INTEGER, \n",
    "                                               rtwts INTEGER,\n",
    "                                               fvrts INTEGER,\n",
    "                                               application TEXT,\n",
    "                                               source TEXT )'''"
   ]
  },
  {
   "cell_type": "code",
   "execution_count": 8,
   "metadata": {
    "collapsed": true
   },
   "outputs": [],
   "source": [
    "def merge_scraped(path):\n",
    "    dbPath = path + 'MERGED_SCRAPER.db'\n",
    "\n",
    "    conn = sqlite3.connect(dbPath)\n",
    "    c = conn.cursor()\n",
    "    c.execute(tweetE)\n",
    "    \n",
    "    for f in getFiles(path, 'db', filtr='MERGED_SCRAPER'):\n",
    "        print f\n",
    "        try:\n",
    "            tweets = parseDB(f )\n",
    "\n",
    "            c.executemany('INSERT OR IGNORE INTO tweets VALUES (?, ?, ?, ?, ?, ?, ?, ?, ?, ?)', tweets )\n",
    "            conn.commit()\n",
    "        except Exception, e:\n",
    "            print f, ':', str(e)\n",
    "    \n",
    "    conn.close()\n",
    "    print 'Databases Merged!'\n",
    "    print dbPath"
   ]
  },
  {
   "cell_type": "code",
   "execution_count": 18,
   "metadata": {
    "collapsed": true
   },
   "outputs": [],
   "source": [
    "path = '/Users/casy/Dropbox/CUSP/GRA/QQ_GRA/CUSP_QC_twitter_scripts/data/all_scraper/'"
   ]
  },
  {
   "cell_type": "code",
   "execution_count": 19,
   "metadata": {
    "collapsed": true
   },
   "outputs": [],
   "source": [
    "conn = sqlite3.connect(dbPath)"
   ]
  },
  {
   "cell_type": "code",
   "execution_count": 18,
   "metadata": {
    "collapsed": false
   },
   "outputs": [
    {
     "name": "stdout",
     "output_type": "stream",
     "text": [
      "/Users/casy/Dropbox/CUSP/GRA/QQ_GRA/CUSP_QC_twitter_scripts/data/all_scraper/2016_02__6_twitter.db\n",
      "/Users/casy/Dropbox/CUSP/GRA/QQ_GRA/CUSP_QC_twitter_scripts/data/all_scraper/twitter copy.db\n",
      "/Users/casy/Dropbox/CUSP/GRA/QQ_GRA/CUSP_QC_twitter_scripts/data/all_scraper/twitter.db\n",
      "/Users/casy/Dropbox/CUSP/GRA/QQ_GRA/CUSP_QC_twitter_scripts/data/all_scraper/twitter1.db\n",
      "/Users/casy/Dropbox/CUSP/GRA/QQ_GRA/CUSP_QC_twitter_scripts/data/all_scraper/twitter2.db\n",
      "/Users/casy/Dropbox/CUSP/GRA/QQ_GRA/CUSP_QC_twitter_scripts/data/all_scraper/twitter_1.db\n",
      "/Users/casy/Dropbox/CUSP/GRA/QQ_GRA/CUSP_QC_twitter_scripts/data/all_scraper/twitter_1.db : database disk image is malformed\n",
      "/Users/casy/Dropbox/CUSP/GRA/QQ_GRA/CUSP_QC_twitter_scripts/data/all_scraper/twitter_My1.db\n",
      "/Users/casy/Dropbox/CUSP/GRA/QQ_GRA/CUSP_QC_twitter_scripts/data/all_scraper/twitter_My1.db : no such table: tweets\n",
      "/Users/casy/Dropbox/CUSP/GRA/QQ_GRA/CUSP_QC_twitter_scripts/data/all_scraper/twitter_old.db\n",
      "Databases Merged!\n",
      "/Users/casy/Dropbox/CUSP/GRA/QQ_GRA/CUSP_QC_twitter_scripts/data/all_scraper/MERGED_SCRAPER.db\n"
     ]
    }
   ],
   "source": [
    "merge_scraped(path)"
   ]
  },
  {
   "cell_type": "code",
   "execution_count": 11,
   "metadata": {
    "collapsed": true
   },
   "outputs": [],
   "source": [
    "tweets = parseDB('/Users/casy/Dropbox/CUSP/GRA/QQ_GRA/CUSP_QC_twitter_scripts/data/all_scraper/twitter2.db')"
   ]
  },
  {
   "cell_type": "code",
   "execution_count": 12,
   "metadata": {
    "collapsed": false
   },
   "outputs": [
    {
     "data": {
      "text/plain": [
       "<sqlite3.Cursor at 0x1058c86c0>"
      ]
     },
     "execution_count": 12,
     "metadata": {},
     "output_type": "execute_result"
    }
   ],
   "source": [
    "dbPath = '/Users/casy/Dropbox/CUSP/GRA/QQ_GRA/CUSP_QC_twitter_scripts/data/twitter2_parsed.db'\n",
    "\n",
    "conn = sqlite3.connect(dbPath)\n",
    "c = conn.cursor()\n",
    "c.execute(tweetE)"
   ]
  },
  {
   "cell_type": "code",
   "execution_count": 13,
   "metadata": {
    "collapsed": true
   },
   "outputs": [],
   "source": [
    "c.executemany('INSERT OR IGNORE INTO tweets VALUES (?, ?, ?, ?, ?, ?, ?, ?, ?, ?)', tweets )\n",
    "conn.commit()"
   ]
  },
  {
   "cell_type": "code",
   "execution_count": 14,
   "metadata": {
    "collapsed": true
   },
   "outputs": [],
   "source": [
    "conn.close()"
   ]
  },
  {
   "cell_type": "code",
   "execution_count": null,
   "metadata": {
    "collapsed": true
   },
   "outputs": [],
   "source": []
  }
 ],
 "metadata": {
  "kernelspec": {
   "display_name": "Python 2",
   "language": "python",
   "name": "python2"
  },
  "language_info": {
   "codemirror_mode": {
    "name": "ipython",
    "version": 2
   },
   "file_extension": ".py",
   "mimetype": "text/x-python",
   "name": "python",
   "nbconvert_exporter": "python",
   "pygments_lexer": "ipython2",
   "version": "2.7.10"
  }
 },
 "nbformat": 4,
 "nbformat_minor": 0
}
