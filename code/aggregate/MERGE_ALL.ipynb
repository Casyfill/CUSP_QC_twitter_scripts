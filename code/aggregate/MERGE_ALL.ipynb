{
 "cells": [
  {
   "cell_type": "code",
   "execution_count": 29,
   "metadata": {
    "collapsed": false
   },
   "outputs": [
    {
     "name": "stdout",
     "output_type": "stream",
     "text": [
      "Populating the interactive namespace from numpy and matplotlib\n"
     ]
    }
   ],
   "source": [
    "__author__ = \"me\"\n",
    "__date__ = \"2016_02_01\"\n",
    "\n",
    "%pylab inline\n",
    "import sqlite3\n",
    "import datetime\n",
    "import dateutil.parser\n",
    "import os\n",
    "import ast"
   ]
  },
  {
   "cell_type": "code",
   "execution_count": 35,
   "metadata": {
    "collapsed": true
   },
   "outputs": [],
   "source": [
    "def getFiles(folder, format, full=True, filtr=None):\n",
    "    for f in os.listdir(folder):\n",
    "        if f.endswith(format):\n",
    "            if filtr==None or filtr not in f:\n",
    "                if full:\n",
    "                    yield os.path.join(folder, f)\n",
    "                else:\n",
    "                    yield f"
   ]
  },
  {
   "cell_type": "code",
   "execution_count": 36,
   "metadata": {
    "collapsed": true
   },
   "outputs": [],
   "source": [
    "def getSQLiteTweets(path):\n",
    "    conn = sqlite3.connect(path)\n",
    "    df = conn.cursor().execute('SELECT id, timestamp, lon, lat, tweet, user_id, rtwts, fvrts, application, source FROM tweets').fetchall() ## all but raw data\n",
    "    conn.close()\n",
    "    return df"
   ]
  },
  {
   "cell_type": "code",
   "execution_count": 37,
   "metadata": {
    "collapsed": true
   },
   "outputs": [],
   "source": [
    "tweetE = '''CREATE TABLE IF NOT EXISTS tweets (id INTEGER PRIMARY KEY, \n",
    "                                               timestamp INTEGER, \n",
    "                                               lon REAL, lat REAL, \n",
    "                                               tweet TEXT, \n",
    "                                               user_id INTEGER, \n",
    "                                               rtwts INTEGER,\n",
    "                                               fvrts INTEGER,\n",
    "                                               application TEXT,\n",
    "                                               source TEXT )'''"
   ]
  },
  {
   "cell_type": "code",
   "execution_count": 38,
   "metadata": {
    "collapsed": true
   },
   "outputs": [],
   "source": [
    "def mergeAll(path):\n",
    "    dbPath = path + 'MERGED_ALL.db'\n",
    "\n",
    "    conn = sqlite3.connect(dbPath)\n",
    "    c = conn.cursor()\n",
    "    c.execute(tweetE)\n",
    "    \n",
    "    for f in getFiles(path, 'db', 'MERGED_ALL'):\n",
    "        print f\n",
    "        if 'MERGED_ALL' not in f:\n",
    "            tweets = getSQLiteTweets(f)\n",
    "            c.executemany('INSERT OR IGNORE INTO tweets VALUES (?, ?, ?, ?, ?, ?, ?, ?, ?, ?)', tweets )\n",
    "            conn.commit()\n",
    "    \n",
    "    conn.close()\n",
    "    print 'Databases Merged!'\n",
    "    print dbPath"
   ]
  },
  {
   "cell_type": "code",
   "execution_count": 39,
   "metadata": {
    "collapsed": false
   },
   "outputs": [
    {
     "name": "stdout",
     "output_type": "stream",
     "text": [
      "/Users/casy/Dropbox/CUSP/GRA/QQ_GRA/CUSP_QC_twitter_scripts/data/aggregated/gnip_twitter.db\n",
      "/Users/casy/Dropbox/CUSP/GRA/QQ_GRA/CUSP_QC_twitter_scripts/data/aggregated/MERGED_ALL.db\n",
      "/Users/casy/Dropbox/CUSP/GRA/QQ_GRA/CUSP_QC_twitter_scripts/data/aggregated/MERGED_SCRAPER.db\n",
      "Databases Merged!\n",
      "/Users/casy/Dropbox/CUSP/GRA/QQ_GRA/CUSP_QC_twitter_scripts/data/aggregated/MERGED_ALL.db\n"
     ]
    }
   ],
   "source": [
    "path = '/Users/casy/Dropbox/CUSP/GRA/QQ_GRA/CUSP_QC_twitter_scripts/data/aggregated/'\n",
    "mergeAll(path)"
   ]
  },
  {
   "cell_type": "code",
   "execution_count": null,
   "metadata": {
    "collapsed": true
   },
   "outputs": [],
   "source": []
  }
 ],
 "metadata": {
  "kernelspec": {
   "display_name": "Python 2",
   "language": "python",
   "name": "python2"
  },
  "language_info": {
   "codemirror_mode": {
    "name": "ipython",
    "version": 2
   },
   "file_extension": ".py",
   "mimetype": "text/x-python",
   "name": "python",
   "nbconvert_exporter": "python",
   "pygments_lexer": "ipython2",
   "version": "2.7.10"
  }
 },
 "nbformat": 4,
 "nbformat_minor": 0
}
