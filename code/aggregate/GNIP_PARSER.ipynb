{
 "cells": [
  {
   "cell_type": "code",
   "execution_count": 1,
   "metadata": {
    "collapsed": false
   },
   "outputs": [],
   "source": [
    "__author__ = \"Philipp Kats\"\n",
    "__date__ = \"2016_02_01\"\n",
    "\n",
    "import datetime\n",
    "import dateutil.parser\n",
    "import time\n",
    "import os\n",
    "import gzip\n",
    "import json\n",
    "\n",
    "import sqlite3"
   ]
  },
  {
   "cell_type": "code",
   "execution_count": 2,
   "metadata": {
    "collapsed": false
   },
   "outputs": [],
   "source": [
    "PWD = os.getenv('PWD')\n",
    "\n",
    "path = '/'.join(PWD.split('/')[:-1]) + '/gnip/enviroment4gnip/job1/PTDataDownload/downloads/'"
   ]
  },
  {
   "cell_type": "code",
   "execution_count": 3,
   "metadata": {
    "collapsed": true
   },
   "outputs": [],
   "source": [
    "def getFiles(folder, format, full=True):\n",
    "    for file in os.listdir(folder):\n",
    "        if file.endswith(format):\n",
    "            if full:\n",
    "                yield os.path.join(folder, file)\n",
    "            else:\n",
    "                yield file"
   ]
  },
  {
   "cell_type": "code",
   "execution_count": 4,
   "metadata": {
    "collapsed": true
   },
   "outputs": [],
   "source": [
    "files = getFiles(path, '.json.gz', full=True)"
   ]
  },
  {
   "cell_type": "code",
   "execution_count": 5,
   "metadata": {
    "collapsed": false
   },
   "outputs": [],
   "source": [
    "\n",
    "\n",
    "def parseJsonArrayFile(path):\n",
    "    with gzip.open(path, 'rb') as f:\n",
    "        lines = f.read().split('\\r')\n",
    "        records = []\n",
    "        for line in lines:\n",
    "            if len(line.strip())>0:\n",
    "                try:\n",
    "                    records.append( json.loads(line.strip()) )\n",
    "                except Exception, e:\n",
    "                    pass\n",
    "        return records\n",
    "\n",
    "\n",
    "def parseAll(paths):\n",
    "    records = []\n",
    "    for path in paths:\n",
    "        records.extend(parseJsonArrayFile(path))\n",
    "    \n",
    "    return records"
   ]
  },
  {
   "cell_type": "code",
   "execution_count": 6,
   "metadata": {
    "collapsed": false
   },
   "outputs": [],
   "source": [
    "records = parseAll(files)"
   ]
  },
  {
   "cell_type": "code",
   "execution_count": 7,
   "metadata": {
    "collapsed": false
   },
   "outputs": [
    {
     "data": {
      "text/plain": [
       "21259"
      ]
     },
     "execution_count": 7,
     "metadata": {},
     "output_type": "execute_result"
    }
   ],
   "source": [
    "len(records)"
   ]
  },
  {
   "cell_type": "code",
   "execution_count": 8,
   "metadata": {
    "collapsed": false
   },
   "outputs": [
    {
     "data": {
      "text/plain": [
       "'\\nid\\ntimestamp (time, unix naive epoch)\\ngeo - lon\\ngeo - lat\\ntext\\nauthor uid\\nretweets\\nfavorites\\nauthor_data\\napplication\\nsource\\n'"
      ]
     },
     "execution_count": 8,
     "metadata": {},
     "output_type": "execute_result"
    }
   ],
   "source": [
    "### MY_SCHEMA\n",
    "'''\n",
    "id\n",
    "timestamp (time, unix naive epoch)\n",
    "geo - lon\n",
    "geo - lat\n",
    "text\n",
    "author uid\n",
    "retweets\n",
    "favorites\n",
    "author_data\n",
    "application\n",
    "source\n",
    "'''"
   ]
  },
  {
   "cell_type": "code",
   "execution_count": 9,
   "metadata": {
    "collapsed": false
   },
   "outputs": [],
   "source": [
    "def parseTweet(tweet, mode='tpl', gnipID='gnip'):\n",
    "    if 'geo' in tweet:\n",
    "        if mode=='tpl':\n",
    "            return (int(tweet['id'].split(':')[-1]),           ## tweet unique id\n",
    "                    int(dateutil.parser.parse(tweet['postedTime']).strftime(\"%s\")), ## unix naive timestamp\n",
    "                    tweet['geo']['coordinates'][0],            ## geo - lat\n",
    "                    tweet['geo']['coordinates'][1],            ## geo - lon\n",
    "                    tweet['body'],                             ## tweet text body\n",
    "                    int(tweet['actor']['id'].split(':')[-1]),  ## user id\n",
    "                    tweet['retweetCount'],                     ## counting retweets\n",
    "                    tweet['favoritesCount'],                   ## counting favorites\n",
    "                    tweet['generator']['displayName'],         ## source app\n",
    "                    gnipID)                                    ## gnip_folder_name (gnip job)\n",
    "    else:\n",
    "        pass\n",
    "#         print tweet.keys()\n",
    "\n"
   ]
  },
  {
   "cell_type": "code",
   "execution_count": 10,
   "metadata": {
    "collapsed": false
   },
   "outputs": [],
   "source": [
    "parcedRecords = [parseTweet(record) for record in records if parseTweet(record, mode='tpl')!=None]"
   ]
  },
  {
   "cell_type": "code",
   "execution_count": 11,
   "metadata": {
    "collapsed": false
   },
   "outputs": [
    {
     "data": {
      "text/plain": [
       "13029"
      ]
     },
     "execution_count": 11,
     "metadata": {},
     "output_type": "execute_result"
    }
   ],
   "source": [
    "len(parcedRecords)"
   ]
  },
  {
   "cell_type": "code",
   "execution_count": 12,
   "metadata": {
    "collapsed": false
   },
   "outputs": [
    {
     "data": {
      "text/plain": [
       "(666044874249097216,\n",
       " 1447650447,\n",
       " 40.6800804,\n",
       " -73.9751587,\n",
       " u'Just posted a photo @ Cubana Cafe https://t.co/2nuZYVmCBp',\n",
       " 316514940,\n",
       " 0,\n",
       " 0,\n",
       " u'Instagram',\n",
       " 'gnip')"
      ]
     },
     "execution_count": 12,
     "metadata": {},
     "output_type": "execute_result"
    }
   ],
   "source": [
    "parcedRecords[110]"
   ]
  },
  {
   "cell_type": "code",
   "execution_count": 17,
   "metadata": {
    "collapsed": true
   },
   "outputs": [],
   "source": [
    "tweetE = '''CREATE TABLE IF NOT EXISTS tweets (id INTEGER PRIMARY KEY, \n",
    "                                               timestamp INTEGER, \n",
    "                                               lon REAL, lat REAL, \n",
    "                                               tweet TEXT, \n",
    "                                               user_id INTEGER, \n",
    "                                               rtwts INTEGER,\n",
    "                                               fvrts INTEGER,\n",
    "                                               application TEXT,\n",
    "                                               source TEXT)'''"
   ]
  },
  {
   "cell_type": "code",
   "execution_count": 18,
   "metadata": {
    "collapsed": true
   },
   "outputs": [],
   "source": [
    "# usersE = '''CREATE TABLE users (id INTEGER, \n",
    "#                                 timestamp INTEGER, raw TEXT, CONSTRAINT pk PRIMARY KEY (id, timestamp))'''"
   ]
  },
  {
   "cell_type": "code",
   "execution_count": 19,
   "metadata": {
    "collapsed": false
   },
   "outputs": [],
   "source": [
    "def aggregate(tweets):\n",
    "    dbPath = path + 'gnip_twitter.db'\n",
    "    print dbPath\n",
    "    conn = sqlite3.connect(dbPath)\n",
    "    c = conn.cursor()\n",
    "    c.execute(tweetE)\n",
    "    c.executemany('INSERT OR IGNORE INTO tweets VALUES (?, ?, ?, ?, ?, ?, ?, ?, ?, ?)', tweets )\n",
    "    conn.commit()\n",
    "    conn.close()\n",
    "\n"
   ]
  },
  {
   "cell_type": "code",
   "execution_count": 20,
   "metadata": {
    "collapsed": false
   },
   "outputs": [
    {
     "name": "stdout",
     "output_type": "stream",
     "text": [
      "/Users/casy/Dropbox/CUSP/GRA/QQ_GRA/gnip/enviroment4gnip/job1/PTDataDownload/downloads/gnip_twitter.db\n"
     ]
    }
   ],
   "source": [
    "aggregate(parcedRecords)"
   ]
  },
  {
   "cell_type": "code",
   "execution_count": null,
   "metadata": {
    "collapsed": true
   },
   "outputs": [],
   "source": []
  }
 ],
 "metadata": {
  "kernelspec": {
   "display_name": "Python 2",
   "language": "python",
   "name": "python2"
  },
  "language_info": {
   "codemirror_mode": {
    "name": "ipython",
    "version": 2
   },
   "file_extension": ".py",
   "mimetype": "text/x-python",
   "name": "python",
   "nbconvert_exporter": "python",
   "pygments_lexer": "ipython2",
   "version": "2.7.10"
  }
 },
 "nbformat": 4,
 "nbformat_minor": 0
}
