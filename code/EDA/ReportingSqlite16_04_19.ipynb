{
 "cells": [
  {
   "cell_type": "code",
   "execution_count": 1,
   "metadata": {
    "collapsed": false
   },
   "outputs": [
    {
     "name": "stdout",
     "output_type": "stream",
     "text": [
      "Populating the interactive namespace from numpy and matplotlib\n"
     ]
    }
   ],
   "source": [
    "__author__ = \"me\"\n",
    "__date__ = \"2016_02_01\"\n",
    "\n",
    "\n",
    "import matplotlib\n",
    "matplotlib.use('Agg')\n",
    "\n",
    "\n",
    "%pylab inline\n",
    "import matplotlib.pyplot as plt\n",
    "\n",
    "import sqlite3\n",
    "import datetime\n",
    "import dateutil.parser\n",
    "import pandas as pd\n",
    "\n",
    "import os\n",
    "import ast\n",
    "from ipynotifyer import notifyOnComplete as nf"
   ]
  },
  {
   "cell_type": "code",
   "execution_count": 2,
   "metadata": {
    "collapsed": true
   },
   "outputs": [],
   "source": [
    "def getSQLiteTweets(path):\n",
    "    '''gets all data as tuple'''\n",
    "    conn = sqlite3.connect(path)\n",
    "    data = conn.cursor().execute('SELECT * FROM tweets').fetchall() ## all but raw data\n",
    "    conn.close()\n",
    "    return data\n",
    "\n",
    "\n",
    "@nf\n",
    "def getDF(path):\n",
    "    print 'connecting!'\n",
    "    conn = sqlite3.connect(path)\n",
    "    print 'aquiring...'    \n",
    "    columns2 = ('id', 'user_id', 'application', 'postalCode', 'ts')\n",
    "\n",
    "    return pd.read_sql('SELECT id, user_id, application, postalCode, ts FROM tweets', \n",
    "                       conn, parse_dates='ts', columns=columns2)\n"
   ]
  },
  {
   "cell_type": "code",
   "execution_count": 3,
   "metadata": {
    "collapsed": false
   },
   "outputs": [
    {
     "name": "stdout",
     "output_type": "stream",
     "text": [
      "connecting!\n",
      "aquiring...\n"
     ]
    }
   ],
   "source": [
    "path = '../../data/MASTERDB/2016-04-15_v4.db'\n",
    "df = getDF(path)"
   ]
  },
  {
   "cell_type": "code",
   "execution_count": 4,
   "metadata": {
    "collapsed": false
   },
   "outputs": [
    {
     "data": {
      "text/plain": [
       "(23046861, 5)"
      ]
     },
     "execution_count": 4,
     "metadata": {},
     "output_type": "execute_result"
    }
   ],
   "source": [
    "df.shape"
   ]
  },
  {
   "cell_type": "code",
   "execution_count": 5,
   "metadata": {
    "collapsed": false
   },
   "outputs": [
    {
     "data": {
      "text/plain": [
       "id                      int64\n",
       "user_id                 int64\n",
       "application            object\n",
       "postalCode            float64\n",
       "ts             datetime64[ns]\n",
       "dtype: object"
      ]
     },
     "execution_count": 5,
     "metadata": {},
     "output_type": "execute_result"
    }
   ],
   "source": [
    "df.dtypes"
   ]
  },
  {
   "cell_type": "markdown",
   "metadata": {},
   "source": [
    "## Records total"
   ]
  },
  {
   "cell_type": "code",
   "execution_count": 6,
   "metadata": {
    "collapsed": false
   },
   "outputs": [
    {
     "data": {
      "text/plain": [
       "(665946,)"
      ]
     },
     "execution_count": 6,
     "metadata": {},
     "output_type": "execute_result"
    }
   ],
   "source": [
    "df.user_id.unique().shape"
   ]
  },
  {
   "cell_type": "markdown",
   "metadata": {},
   "source": [
    "## Time Range"
   ]
  },
  {
   "cell_type": "code",
   "execution_count": 7,
   "metadata": {
    "collapsed": false
   },
   "outputs": [
    {
     "data": {
      "text/plain": [
       "count                23046861\n",
       "unique               16837843\n",
       "top       2014-06-26 20:33:20\n",
       "freq                      118\n",
       "first     2014-01-01 00:00:00\n",
       "last      2015-06-30 23:03:26\n",
       "Name: ts, dtype: object"
      ]
     },
     "execution_count": 7,
     "metadata": {},
     "output_type": "execute_result"
    }
   ],
   "source": [
    "df['ts'].describe()"
   ]
  },
  {
   "cell_type": "markdown",
   "metadata": {},
   "source": [
    "## Sources"
   ]
  },
  {
   "cell_type": "markdown",
   "metadata": {},
   "source": [
    "## APPS"
   ]
  },
  {
   "cell_type": "code",
   "execution_count": 9,
   "metadata": {
    "collapsed": false
   },
   "outputs": [
    {
     "data": {
      "text/plain": [
       "(602,)"
      ]
     },
     "execution_count": 9,
     "metadata": {},
     "output_type": "execute_result"
    }
   ],
   "source": [
    "df.application.unique().shape"
   ]
  },
  {
   "cell_type": "code",
   "execution_count": 10,
   "metadata": {
    "collapsed": false
   },
   "outputs": [
    {
     "data": {
      "text/plain": [
       "Twitter for iPhone             13611475\n",
       "Instagram                       3706224\n",
       "Twitter for Android             3237441\n",
       "foursquare                       624360\n",
       "Foursquare                       539947\n",
       "Twitter for iPad                 308223\n",
       "dlvr.it                          130040\n",
       "iOS                               86180\n",
       "Twitter for Android Tablets       81596\n",
       "Tweetbot for iΟS                  69645\n",
       "Twitter for  Android              63550\n",
       "Twitter for Windows Phone         58861\n",
       "Squarespace 6                     53211\n",
       "Untappd                           40608\n",
       "Tweetlogix                        38174\n",
       "TweetCaster for Android           36705\n",
       "Tweetbot for iOS                  32857\n",
       "twitterfeed                       27597\n",
       "Path                              20452\n",
       "Tweetbot for Mac                  17152\n",
       "511NY-Tweets                      16055\n",
       "Goldstar                          15098\n",
       "pbump.net                         13733\n",
       "Twitter for BlackBerry®           13567\n",
       "Beer Menus                        13220\n",
       "Plume for Android                 12396\n",
       "COS App                           12392\n",
       "twitrriffic                       10181\n",
       "dine here                          8701\n",
       "TweetCaster for iOS                8177\n",
       "Name: application, dtype: int64"
      ]
     },
     "execution_count": 10,
     "metadata": {},
     "output_type": "execute_result"
    }
   ],
   "source": [
    "df.application.value_counts().head(30)"
   ]
  },
  {
   "cell_type": "code",
   "execution_count": null,
   "metadata": {
    "collapsed": true
   },
   "outputs": [],
   "source": [
    "# bots = ('CareerCenter', 'SafeTweet by TweetMyJOBS', 'Goldstar', 'TweetMyJOBS','dlvr.it', 'dine here', 'kickalert', 'pbump.net' )"
   ]
  },
  {
   "cell_type": "code",
   "execution_count": null,
   "metadata": {
    "collapsed": false
   },
   "outputs": [],
   "source": [
    "# df[df.application == 'kickalert'].tweet.head(10)"
   ]
  },
  {
   "cell_type": "markdown",
   "metadata": {},
   "source": [
    "## USERS"
   ]
  },
  {
   "cell_type": "code",
   "execution_count": 11,
   "metadata": {
    "collapsed": false
   },
   "outputs": [
    {
     "data": {
      "text/plain": [
       "count    665946.000000\n",
       "mean         34.607702\n",
       "std         277.856580\n",
       "min           1.000000\n",
       "25%           1.000000\n",
       "50%           4.000000\n",
       "75%          13.000000\n",
       "max       78481.000000\n",
       "Name: user_id, dtype: float64"
      ]
     },
     "execution_count": 11,
     "metadata": {},
     "output_type": "execute_result"
    }
   ],
   "source": [
    "uCount = df.user_id.value_counts()\n",
    "uCount.describe()"
   ]
  },
  {
   "cell_type": "code",
   "execution_count": 12,
   "metadata": {
    "collapsed": false
   },
   "outputs": [
    {
     "data": {
      "text/plain": [
       "484796"
      ]
     },
     "execution_count": 12,
     "metadata": {},
     "output_type": "execute_result"
    }
   ],
   "source": [
    "len(uCount[uCount>1])"
   ]
  },
  {
   "cell_type": "code",
   "execution_count": 13,
   "metadata": {
    "collapsed": false
   },
   "outputs": [
    {
     "data": {
      "text/plain": [
       "181150"
      ]
     },
     "execution_count": 13,
     "metadata": {},
     "output_type": "execute_result"
    }
   ],
   "source": [
    "singles = uCount[uCount==1].index.tolist()\n",
    "len(uCount[uCount==1])"
   ]
  },
  {
   "cell_type": "code",
   "execution_count": 15,
   "metadata": {
    "collapsed": false
   },
   "outputs": [],
   "source": [
    "top = uCount.head(30).index.tolist()\n",
    "\n",
    "# df[df.user_id == top[4]].head(20).tweet"
   ]
  },
  {
   "cell_type": "code",
   "execution_count": null,
   "metadata": {
    "collapsed": false
   },
   "outputs": [],
   "source": [
    "# users not within top21 and not single-shots\n",
    "len(df[(~df.user_id.isin(top[:21])) & (~ df.user_id.isin(singles)) ])"
   ]
  },
  {
   "cell_type": "code",
   "execution_count": null,
   "metadata": {
    "collapsed": true
   },
   "outputs": [],
   "source": [
    "# cleanData = df[(~df.user_id.isin(top[:21])) & (~ df.user_id.isin(singles)) ]\n",
    "cleanData = df[(~df.user_id.isin(top[:21]))]"
   ]
  },
  {
   "cell_type": "markdown",
   "metadata": {},
   "source": [
    "## Timeline"
   ]
  },
  {
   "cell_type": "code",
   "execution_count": 16,
   "metadata": {
    "collapsed": false
   },
   "outputs": [
    {
     "data": {
      "image/png": "[encoded data removed]",
      "text/plain": [
       "<matplotlib.figure.Figure at 0x25b91df50>"
      ]
     },
     "metadata": {},
     "output_type": "display_data"
    }
   ],
   "source": [
    "def timeCoverage(df, timeCol='ts', countCol='id', rs='D'):\n",
    "    dft = df[[timeCol, countCol]].set_index(timeCol).resample(rs, how='count')\n",
    "    dft.plot(figsize=(18,4), legend=0, title='Tweets collected daily');\n",
    "    plt.xlabel('Date');\n",
    "    plt.ylabel('amount');\n",
    "\n",
    "timeCoverage(df)"
   ]
  },
  {
   "cell_type": "markdown",
   "metadata": {},
   "source": [
    "## TIME grouping"
   ]
  },
  {
   "cell_type": "code",
   "execution_count": 20,
   "metadata": {
    "collapsed": false
   },
   "outputs": [],
   "source": [
    "s = df[['id', 'ts']].set_index('ts').resample('15Min', how='count')"
   ]
  },
  {
   "cell_type": "code",
   "execution_count": 21,
   "metadata": {
    "collapsed": false
   },
   "outputs": [],
   "source": [
    "s.reset_index(inplace=1)\n",
    "s['id'] = s['id'].astype(float)\n",
    "\n",
    "\n",
    "s['wd'] = s['ts'].dt.weekday\n",
    "s['hour'] = s['ts'].dt.hour\n",
    "s['minute'] = s['ts'].dt.minute\n",
    "\n",
    "sg = s.groupby(['wd', 'hour', 'minute']).agg('mean')\n",
    "sg.reset_index(inplace=1)"
   ]
  },
  {
   "cell_type": "code",
   "execution_count": 22,
   "metadata": {
    "collapsed": false
   },
   "outputs": [
    {
     "data": {
      "text/html": [
       "<div>\n",
       "<table border=\"1\" class=\"dataframe\">\n",
       "  <thead>\n",
       "    <tr style=\"text-align: right;\">\n",
       "      <th></th>\n",
       "      <th>wd</th>\n",
       "      <th>hour</th>\n",
       "      <th>minute</th>\n",
       "      <th>id</th>\n",
       "    </tr>\n",
       "  </thead>\n",
       "  <tbody>\n",
       "    <tr>\n",
       "      <th>0</th>\n",
       "      <td>0</td>\n",
       "      <td>0</td>\n",
       "      <td>0</td>\n",
       "      <td>710.025641</td>\n",
       "    </tr>\n",
       "    <tr>\n",
       "      <th>1</th>\n",
       "      <td>0</td>\n",
       "      <td>0</td>\n",
       "      <td>15</td>\n",
       "      <td>723.346154</td>\n",
       "    </tr>\n",
       "    <tr>\n",
       "      <th>2</th>\n",
       "      <td>0</td>\n",
       "      <td>0</td>\n",
       "      <td>30</td>\n",
       "      <td>722.538462</td>\n",
       "    </tr>\n",
       "    <tr>\n",
       "      <th>3</th>\n",
       "      <td>0</td>\n",
       "      <td>0</td>\n",
       "      <td>45</td>\n",
       "      <td>738.051282</td>\n",
       "    </tr>\n",
       "    <tr>\n",
       "      <th>4</th>\n",
       "      <td>0</td>\n",
       "      <td>1</td>\n",
       "      <td>0</td>\n",
       "      <td>818.987179</td>\n",
       "    </tr>\n",
       "  </tbody>\n",
       "</table>\n",
       "</div>"
      ],
      "text/plain": [
       "   wd  hour  minute          id\n",
       "0   0     0       0  710.025641\n",
       "1   0     0      15  723.346154\n",
       "2   0     0      30  722.538462\n",
       "3   0     0      45  738.051282\n",
       "4   0     1       0  818.987179"
      ]
     },
     "execution_count": 22,
     "metadata": {},
     "output_type": "execute_result"
    }
   ],
   "source": [
    "sg.head()"
   ]
  },
  {
   "cell_type": "code",
   "execution_count": 23,
   "metadata": {
    "collapsed": false
   },
   "outputs": [],
   "source": [
    "sg['timestamp'] = sg.apply(lambda x: datetime.datetime(year=2015, \n",
    "                                                       month=1, \n",
    "                                                       day=(int(x.wd)+1), \n",
    "                                                       hour=int(x.hour), \n",
    "                                                       minute=int(x.minute)), 1)"
   ]
  },
  {
   "cell_type": "code",
   "execution_count": 24,
   "metadata": {
    "collapsed": false
   },
   "outputs": [
    {
     "data": {
      "text/html": [
       "<div>\n",
       "<table border=\"1\" class=\"dataframe\">\n",
       "  <thead>\n",
       "    <tr style=\"text-align: right;\">\n",
       "      <th></th>\n",
       "      <th>wd</th>\n",
       "      <th>hour</th>\n",
       "      <th>minute</th>\n",
       "      <th>id</th>\n",
       "      <th>timestamp</th>\n",
       "    </tr>\n",
       "  </thead>\n",
       "  <tbody>\n",
       "    <tr>\n",
       "      <th>0</th>\n",
       "      <td>0</td>\n",
       "      <td>0</td>\n",
       "      <td>0</td>\n",
       "      <td>710.025641</td>\n",
       "      <td>2015-01-01 00:00:00</td>\n",
       "    </tr>\n",
       "    <tr>\n",
       "      <th>1</th>\n",
       "      <td>0</td>\n",
       "      <td>0</td>\n",
       "      <td>15</td>\n",
       "      <td>723.346154</td>\n",
       "      <td>2015-01-01 00:15:00</td>\n",
       "    </tr>\n",
       "    <tr>\n",
       "      <th>2</th>\n",
       "      <td>0</td>\n",
       "      <td>0</td>\n",
       "      <td>30</td>\n",
       "      <td>722.538462</td>\n",
       "      <td>2015-01-01 00:30:00</td>\n",
       "    </tr>\n",
       "    <tr>\n",
       "      <th>3</th>\n",
       "      <td>0</td>\n",
       "      <td>0</td>\n",
       "      <td>45</td>\n",
       "      <td>738.051282</td>\n",
       "      <td>2015-01-01 00:45:00</td>\n",
       "    </tr>\n",
       "    <tr>\n",
       "      <th>4</th>\n",
       "      <td>0</td>\n",
       "      <td>1</td>\n",
       "      <td>0</td>\n",
       "      <td>818.987179</td>\n",
       "      <td>2015-01-01 01:00:00</td>\n",
       "    </tr>\n",
       "  </tbody>\n",
       "</table>\n",
       "</div>"
      ],
      "text/plain": [
       "   wd  hour  minute          id           timestamp\n",
       "0   0     0       0  710.025641 2015-01-01 00:00:00\n",
       "1   0     0      15  723.346154 2015-01-01 00:15:00\n",
       "2   0     0      30  722.538462 2015-01-01 00:30:00\n",
       "3   0     0      45  738.051282 2015-01-01 00:45:00\n",
       "4   0     1       0  818.987179 2015-01-01 01:00:00"
      ]
     },
     "execution_count": 24,
     "metadata": {},
     "output_type": "execute_result"
    }
   ],
   "source": [
    "sg.head()"
   ]
  },
  {
   "cell_type": "code",
   "execution_count": 25,
   "metadata": {
    "collapsed": false
   },
   "outputs": [
    {
     "data": {
      "image/png": "[encoded data removed]",
      "text/plain": [
       "<matplotlib.figure.Figure at 0x1fa9e5a50>"
      ]
     },
     "metadata": {},
     "output_type": "display_data"
    }
   ],
   "source": [
    "sg[['id', 'timestamp']].set_index('timestamp').plot(figsize=(18,6), legend=0, title='Average Weekly (15-min based) plot');"
   ]
  },
  {
   "cell_type": "code",
   "execution_count": 26,
   "metadata": {
    "collapsed": false
   },
   "outputs": [
    {
     "ename": "IndentationError",
     "evalue": "unexpected indent (<ipython-input-26-12eac6578011>, line 22)",
     "output_type": "error",
     "traceback": [
      "\u001b[0;36m  File \u001b[0;32m\"<ipython-input-26-12eac6578011>\"\u001b[0;36m, line \u001b[0;32m22\u001b[0m\n\u001b[0;31m    .plot(ax=ax);\u001b[0m\n\u001b[0m    ^\u001b[0m\n\u001b[0;31mIndentationError\u001b[0m\u001b[0;31m:\u001b[0m unexpected indent\n"
     ]
    }
   ],
   "source": [
    "def averageWeek(df, ax):\n",
    "    '''calculate average week on ts'''\n",
    "    \n",
    "    s = df[['id', 'ts']].set_index('ts').resample('15Min', how='count')\n",
    "    s.reset_index(inplace=1)\n",
    "    s['id'] = s['id'].astype(float)\n",
    "\n",
    "    s['wd'] = s['ts'].dt.weekday\n",
    "    s['hour'] = s['ts'].dt.hour\n",
    "    s['minute'] = s['ts'].dt.minute\n",
    "\n",
    "    sg = s.groupby(['wd', 'hour', 'minute']).agg('mean')\n",
    "    sg.reset_index(inplace=1)\n",
    "    \n",
    "    sg['timestamp'] = sg.apply(lambda x: datetime.datetime(year=2015, \n",
    "                                                       month=1, \n",
    "                                                       day=(int(x.wd)+1), \n",
    "                                                       hour=int(x.hour), \n",
    "                                                       minute=int(x.minute)), 1)\n",
    "    \n",
    "    sg[['id', 'timestamp']].set_index('timestamp')\n",
    "                           .plot(ax=ax);"
   ]
  },
  {
   "cell_type": "markdown",
   "metadata": {},
   "source": [
    "## Geography"
   ]
  },
  {
   "cell_type": "code",
   "execution_count": null,
   "metadata": {
    "collapsed": false
   },
   "outputs": [],
   "source": [
    "gdf  = toGeoDataFrame(df, lat='lon',lon='lat')"
   ]
  },
  {
   "cell_type": "code",
   "execution_count": null,
   "metadata": {
    "collapsed": false
   },
   "outputs": [],
   "source": [
    "zipPath = '/Users/casy/Dropbox/CUSP/GRA/QQ_GRA/CUSP_QC_twitter_scripts/data/misk/nyc-zip-code-tabulation-areas-polygons.geojson'"
   ]
  },
  {
   "cell_type": "code",
   "execution_count": null,
   "metadata": {
    "collapsed": false
   },
   "outputs": [],
   "source": [
    "zips = gp.read_file(zipPath)"
   ]
  },
  {
   "cell_type": "code",
   "execution_count": null,
   "metadata": {
    "collapsed": false
   },
   "outputs": [],
   "source": [
    "fig,ax = plt.subplots(figsize=(15,15))\n",
    "zips.plot(alpha=0, ax=ax)\n",
    "gdf[-10000:].plot(ax=ax)"
   ]
  },
  {
   "cell_type": "code",
   "execution_count": null,
   "metadata": {
    "collapsed": false
   },
   "outputs": [],
   "source": [
    "fig,ax = plt.subplots(figsize=(15,15))\n",
    "zips.plot(alpha=0, ax=ax)\n",
    "gdf[:10000].plot(ax=ax)"
   ]
  },
  {
   "cell_type": "code",
   "execution_count": null,
   "metadata": {
    "collapsed": true
   },
   "outputs": [],
   "source": []
  }
 ],
 "metadata": {
  "kernelspec": {
   "display_name": "Python 2",
   "language": "python",
   "name": "python2"
  },
  "language_info": {
   "codemirror_mode": {
    "name": "ipython",
    "version": 2
   },
   "file_extension": ".py",
   "mimetype": "text/x-python",
   "name": "python",
   "nbconvert_exporter": "python",
   "pygments_lexer": "ipython2",
   "version": "2.7.11"
  }
 },
 "nbformat": 4,
 "nbformat_minor": 0
}
