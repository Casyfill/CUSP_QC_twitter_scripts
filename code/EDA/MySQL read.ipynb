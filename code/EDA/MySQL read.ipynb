{
 "cells": [
  {
   "cell_type": "code",
   "execution_count": 20,
   "metadata": {
    "collapsed": false
   },
   "outputs": [
    {
     "name": "stdout",
     "output_type": "stream",
     "text": [
      "Populating the interactive namespace from numpy and matplotlib\n"
     ]
    },
    {
     "name": "stderr",
     "output_type": "stream",
     "text": [
      "WARNING: pylab import has clobbered these variables: ['plt']\n",
      "`%matplotlib` prevents importing * from pylab and numpy\n"
     ]
    }
   ],
   "source": [
    "__author__ = \"me\"\n",
    "__date__ = \"2016_02_01\"\n",
    "\n",
    "%pylab inline\n",
    "import pandas as pd\n",
    "import numpy as np\n",
    "import geopandas as gp\n",
    "import sqlite3\n",
    "import pylab as plt\n",
    "import os\n",
    "\n",
    "import requests\n",
    "try:\n",
    "    s = requests.get(\"https://raw.githubusercontent.com/Casyfill/CUSP_templates/master/Py/fbMatplotlibrc.json\").json()\n",
    "    plt.rcParams.update(s)\n",
    "except:\n",
    "    pass\n",
    "\n",
    "\n",
    "PWD = os.getenv('PWD')"
   ]
  },
  {
   "cell_type": "code",
   "execution_count": 21,
   "metadata": {
    "collapsed": true
   },
   "outputs": [],
   "source": [
    "path = '/Users/casy/Dropbox/CUSP/GRA/QQ_GRA/data/twitter2.db'"
   ]
  },
  {
   "cell_type": "code",
   "execution_count": 22,
   "metadata": {
    "collapsed": true
   },
   "outputs": [],
   "source": [
    "conn = sqlite3.connect(path)"
   ]
  },
  {
   "cell_type": "code",
   "execution_count": 23,
   "metadata": {
    "collapsed": false
   },
   "outputs": [],
   "source": [
    "df = conn.cursor().execute('SELECT * FROM tweets').fetchall()"
   ]
  },
  {
   "cell_type": "code",
   "execution_count": 24,
   "metadata": {
    "collapsed": false
   },
   "outputs": [
    {
     "data": {
      "text/plain": [
       "259"
      ]
     },
     "execution_count": 24,
     "metadata": {},
     "output_type": "execute_result"
    }
   ],
   "source": [
    "len(df)"
   ]
  },
  {
   "cell_type": "code",
   "execution_count": 25,
   "metadata": {
    "collapsed": false
   },
   "outputs": [
    {
     "data": {
      "text/plain": [
       "6"
      ]
     },
     "execution_count": 25,
     "metadata": {},
     "output_type": "execute_result"
    }
   ],
   "source": [
    "len(df[0])"
   ]
  },
  {
   "cell_type": "code",
   "execution_count": 26,
   "metadata": {
    "collapsed": false
   },
   "outputs": [
    {
     "data": {
      "text/plain": [
       "(692840546407034882,\n",
       " u'Our monthly dinner @forever_for_21 @ Glow Thai and Japanese https://t.co/civ0B1wbaT',\n",
       " u'{\"type\": \"Point\", \"coordinates\": [40.72876346, -73.70298479]}',\n",
       " u'2016-01-28 22:43:53',\n",
       " 31806802,\n",
       " u'{\"contributors\": null, \"truncated\": false, \"text\": \"Our monthly dinner @forever_for_21 @ Glow Thai and Japanese https://t.co/civ0B1wbaT\", \"is_quote_status\": false, \"in_reply_to_status_id\": null, \"id\": 692840546407034882, \"favorite_count\": 0, \"source\": \"<a href=\\\\\"http://instagram.com\\\\\" rel=\\\\\"nofollow\\\\\">Instagram</a>\", \"retweeted\": false, \"coordinates\": {\"type\": \"Point\", \"coordinates\": [-73.70298479, 40.72876346]}, \"entities\": {\"symbols\": [], \"user_mentions\": [{\"id\": 1426590397, \"indices\": [19, 34], \"id_str\": \"1426590397\", \"screen_name\": \"forever_for_21\", \"name\": \"Briannaa\"}], \"hashtags\": [], \"urls\": [{\"url\": \"https://t.co/civ0B1wbaT\", \"indices\": [60, 83], \"expanded_url\": \"https://www.instagram.com/p/BBGZQ1CEpwVuGBIZR1zryDYOAA2AGjoJnP12Go0/\", \"display_url\": \"instagram.com/p/BBGZQ1CEpwVu\\\\u2026\"}]}, \"in_reply_to_screen_name\": null, \"in_reply_to_user_id\": null, \"retweet_count\": 0, \"id_str\": \"692840546407034882\", \"favorited\": false, \"geo\": {\"type\": \"Point\", \"coordinates\": [40.72876346, -73.70298479]}, \"in_reply_to_user_id_str\": null, \"possibly_sensitive\": false, \"lang\": \"en\", \"created_at\": \"Thu Jan 28 22:43:53 +0000 2016\", \"in_reply_to_status_id_str\": null, \"place\": {\"full_name\": \"Floral Park, NY\", \"url\": \"https://api.twitter.com/1.1/geo/id/82a4f68b3d515bec.json\", \"country\": \"United States\", \"place_type\": \"city\", \"bounding_box\": {\"type\": \"Polygon\", \"coordinates\": [[[-73.722827, 40.712833], [-73.687894, 40.712833], [-73.687894, 40.737522], [-73.722827, 40.737522]]]}, \"contained_within\": [], \"country_code\": \"US\", \"attributes\": {}, \"id\": \"82a4f68b3d515bec\", \"name\": \"Floral Park\"}, \"metadata\": {\"iso_language_code\": \"en\", \"result_type\": \"recent\"}}')"
      ]
     },
     "execution_count": 26,
     "metadata": {},
     "output_type": "execute_result"
    }
   ],
   "source": [
    "df[0]"
   ]
  },
  {
   "cell_type": "code",
   "execution_count": 28,
   "metadata": {
    "collapsed": true
   },
   "outputs": [],
   "source": [
    "path2 = '/Users/casy/Dropbox/CUSP/GRA/QQ_GRA/CUSP_QC_twitter_scripts/data/aggregated/gnip_twitter.db'"
   ]
  },
  {
   "cell_type": "code",
   "execution_count": 29,
   "metadata": {
    "collapsed": true
   },
   "outputs": [],
   "source": [
    "conn2 = sqlite3.connect(path2)\n",
    "df = conn2.cursor().execute('SELECT * FROM tweets').fetchall()"
   ]
  },
  {
   "cell_type": "code",
   "execution_count": 30,
   "metadata": {
    "collapsed": false
   },
   "outputs": [
    {
     "data": {
      "text/plain": [
       "13029"
      ]
     },
     "execution_count": 30,
     "metadata": {},
     "output_type": "execute_result"
    }
   ],
   "source": [
    "len(df)"
   ]
  },
  {
   "cell_type": "code",
   "execution_count": 33,
   "metadata": {
    "collapsed": false
   },
   "outputs": [
    {
     "data": {
      "text/plain": [
       "(666043224159469569,\n",
       " 1447650053,\n",
       " 40.689585,\n",
       " -73.97113426,\n",
       " u'A delicious #brunch on a beautiful day with great company. #happysunday #brunchdate #foodie #merguez\\u2026 https://t.co/cKpU3WLSl5',\n",
       " 102377926,\n",
       " 0,\n",
       " 0,\n",
       " u'Instagram')"
      ]
     },
     "execution_count": 33,
     "metadata": {},
     "output_type": "execute_result"
    }
   ],
   "source": [
    "df[15]"
   ]
  },
  {
   "cell_type": "code",
   "execution_count": 36,
   "metadata": {
    "collapsed": false
   },
   "outputs": [
    {
     "data": {
      "text/plain": [
       "datetime.datetime(2015, 11, 16, 0, 0, 53)"
      ]
     },
     "execution_count": 36,
     "metadata": {},
     "output_type": "execute_result"
    }
   ],
   "source": [
    "\n",
    "datetime.datetime.fromtimestamp(df[15][1])"
   ]
  },
  {
   "cell_type": "code",
   "execution_count": null,
   "metadata": {
    "collapsed": true
   },
   "outputs": [],
   "source": [
    "u'{\"type\": \"Point\", \"coordinates\": [40.72876346, -73.70298479]}'"
   ]
  }
 ],
 "metadata": {
  "kernelspec": {
   "display_name": "Python 2",
   "language": "python",
   "name": "python2"
  },
  "language_info": {
   "codemirror_mode": {
    "name": "ipython",
    "version": 2
   },
   "file_extension": ".py",
   "mimetype": "text/x-python",
   "name": "python",
   "nbconvert_exporter": "python",
   "pygments_lexer": "ipython2",
   "version": "2.7.10"
  }
 },
 "nbformat": 4,
 "nbformat_minor": 0
}
