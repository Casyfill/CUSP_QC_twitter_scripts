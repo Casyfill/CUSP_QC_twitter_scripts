{
 "cells": [
  {
   "cell_type": "code",
   "execution_count": 1,
   "metadata": {
    "collapsed": false
   },
   "outputs": [
    {
     "name": "stdout",
     "output_type": "stream",
     "text": [
      "Populating the interactive namespace from numpy and matplotlib\n"
     ]
    }
   ],
   "source": [
    "\n",
    "__author__ = \"Philipp Kats\"\n",
    "__date__ = \"2016_02_09\"\n",
    "\n",
    "%pylab inline\n",
    "import matplotlib.pyplot as plt\n",
    "\n",
    "import os\n",
    "\n",
    "import pandas as pd\n",
    "import geopandas as gp\n",
    "\n",
    "PWD = os.getenv('PWD')\n",
    "os.chdir(PWD + '/code')"
   ]
  },
  {
   "cell_type": "code",
   "execution_count": 77,
   "metadata": {
    "collapsed": false
   },
   "outputs": [
    {
     "name": "stdout",
     "output_type": "stream",
     "text": [
      "{u'lon_0': -74, u'ellps': u'GRS80', u'y_0': 0, u'no_defs': True, u'proj': u'lcc', u'x_0': 300000.0000000001, u'units': u'us-ft', u'lat_2': 41.03333333333333, u'lat_1': 40.66666666666666, u'lat_0': 40.16666666666666}\n"
     ]
    }
   ],
   "source": [
    "# zipcode maps\n",
    "zipPath = '../data/misk/ZIP_modified/zip_modified.shp'\n",
    "zips = gp.read_file(zipPath)[['geometry', 'ZIPCODE']]\n",
    "print zips.crs"
   ]
  },
  {
   "cell_type": "code",
   "execution_count": 78,
   "metadata": {
    "collapsed": false
   },
   "outputs": [],
   "source": [
    "# dataset to cluster\n",
    "datum = pd.read_pickle('zipJoined.pkl')"
   ]
  },
  {
   "cell_type": "code",
   "execution_count": 79,
   "metadata": {
    "collapsed": false
   },
   "outputs": [
    {
     "data": {
      "text/html": [
       "<div>\n",
       "<table border=\"1\" class=\"dataframe\">\n",
       "  <thead>\n",
       "    <tr style=\"text-align: right;\">\n",
       "      <th></th>\n",
       "      <th>id</th>\n",
       "      <th>timestamp</th>\n",
       "      <th>lon</th>\n",
       "      <th>lat</th>\n",
       "      <th>tweet</th>\n",
       "      <th>user_id</th>\n",
       "      <th>rtwts</th>\n",
       "      <th>fvrts</th>\n",
       "      <th>application</th>\n",
       "      <th>source</th>\n",
       "      <th>ts</th>\n",
       "      <th>geometry</th>\n",
       "      <th>index_right</th>\n",
       "      <th>postalCode</th>\n",
       "    </tr>\n",
       "  </thead>\n",
       "  <tbody>\n",
       "    <tr>\n",
       "      <th>0</th>\n",
       "      <td>550441283261857792</td>\n",
       "      <td>1420088403</td>\n",
       "      <td>-73.816546</td>\n",
       "      <td>40.673936</td>\n",
       "      <td>My face when people say some dumb shxt that do...</td>\n",
       "      <td>2466734767</td>\n",
       "      <td>0</td>\n",
       "      <td>0</td>\n",
       "      <td>Twitter for iPhone</td>\n",
       "      <td>M</td>\n",
       "      <td>2015-01-01 00:00:03</td>\n",
       "      <td>POINT (-73.816546 40.673936)</td>\n",
       "      <td>152</td>\n",
       "      <td>11420</td>\n",
       "    </tr>\n",
       "    <tr>\n",
       "      <th>1</th>\n",
       "      <td>550441288076914688</td>\n",
       "      <td>1420088404</td>\n",
       "      <td>-74.003244</td>\n",
       "      <td>40.709564</td>\n",
       "      <td>“@WorIdStarComedy: this how niggas bout to be ...</td>\n",
       "      <td>420630924</td>\n",
       "      <td>0</td>\n",
       "      <td>0</td>\n",
       "      <td>Twitter for iPhone</td>\n",
       "      <td>M</td>\n",
       "      <td>2015-01-01 00:00:04</td>\n",
       "      <td>POINT (-74.003244 40.709564)</td>\n",
       "      <td>132</td>\n",
       "      <td>10038</td>\n",
       "    </tr>\n",
       "    <tr>\n",
       "      <th>2</th>\n",
       "      <td>550441288609587202</td>\n",
       "      <td>1420088404</td>\n",
       "      <td>-73.975329</td>\n",
       "      <td>40.620802</td>\n",
       "      <td>@Moscowitalian76 @xenon__54 @VRSoloviev я несм...</td>\n",
       "      <td>1924308818</td>\n",
       "      <td>0</td>\n",
       "      <td>0</td>\n",
       "      <td>Twitter for iPhone</td>\n",
       "      <td>M</td>\n",
       "      <td>2015-01-01 00:00:04</td>\n",
       "      <td>POINT (-73.975329 40.620802)</td>\n",
       "      <td>37</td>\n",
       "      <td>11204</td>\n",
       "    </tr>\n",
       "    <tr>\n",
       "      <th>4</th>\n",
       "      <td>550441301574189056</td>\n",
       "      <td>1420088407</td>\n",
       "      <td>-73.895624</td>\n",
       "      <td>40.657934</td>\n",
       "      <td>@jondecastro Aye!! You already know Jon!!! Ple...</td>\n",
       "      <td>960297817</td>\n",
       "      <td>0</td>\n",
       "      <td>0</td>\n",
       "      <td>Twitter for iPhone</td>\n",
       "      <td>M</td>\n",
       "      <td>2015-01-01 00:00:07</td>\n",
       "      <td>POINT (-73.895624 40.657934)</td>\n",
       "      <td>144</td>\n",
       "      <td>11207</td>\n",
       "    </tr>\n",
       "  </tbody>\n",
       "</table>\n",
       "</div>"
      ],
      "text/plain": [
       "                   id   timestamp        lon        lat  \\\n",
       "0  550441283261857792  1420088403 -73.816546  40.673936   \n",
       "1  550441288076914688  1420088404 -74.003244  40.709564   \n",
       "2  550441288609587202  1420088404 -73.975329  40.620802   \n",
       "4  550441301574189056  1420088407 -73.895624  40.657934   \n",
       "\n",
       "                                               tweet     user_id  rtwts  \\\n",
       "0  My face when people say some dumb shxt that do...  2466734767      0   \n",
       "1  “@WorIdStarComedy: this how niggas bout to be ...   420630924      0   \n",
       "2  @Moscowitalian76 @xenon__54 @VRSoloviev я несм...  1924308818      0   \n",
       "4  @jondecastro Aye!! You already know Jon!!! Ple...   960297817      0   \n",
       "\n",
       "   fvrts         application source                  ts  \\\n",
       "0      0  Twitter for iPhone      M 2015-01-01 00:00:03   \n",
       "1      0  Twitter for iPhone      M 2015-01-01 00:00:04   \n",
       "2      0  Twitter for iPhone      M 2015-01-01 00:00:04   \n",
       "4      0  Twitter for iPhone      M 2015-01-01 00:00:07   \n",
       "\n",
       "                       geometry  index_right postalCode  \n",
       "0  POINT (-73.816546 40.673936)          152      11420  \n",
       "1  POINT (-74.003244 40.709564)          132      10038  \n",
       "2  POINT (-73.975329 40.620802)           37      11204  \n",
       "4  POINT (-73.895624 40.657934)          144      11207  "
      ]
     },
     "execution_count": 79,
     "metadata": {},
     "output_type": "execute_result"
    }
   ],
   "source": [
    "datum.head(4)"
   ]
  },
  {
   "cell_type": "code",
   "execution_count": 81,
   "metadata": {
    "collapsed": false
   },
   "outputs": [
    {
     "data": {
      "image/png": "[encoded data removed]",
      "text/plain": [
       "<matplotlib.figure.Figure at 0x355543b90>"
      ]
     },
     "metadata": {},
     "output_type": "display_data"
    }
   ],
   "source": [
    "lmZips = [str(x) for x in (10004, 10005, 10006, 10007, 10038, 10280,10282, 10281, 10048)]\n",
    "lm = zips[zips.ZIPCODE.isin(lmZips)]\n",
    "lm.plot(figsize=(5,5));"
   ]
  },
  {
   "cell_type": "code",
   "execution_count": 134,
   "metadata": {
    "collapsed": true
   },
   "outputs": [],
   "source": [
    "lmData = datum[datum.postalCode.isin(lmZips)]"
   ]
  },
  {
   "cell_type": "code",
   "execution_count": 135,
   "metadata": {
    "collapsed": false
   },
   "outputs": [
    {
     "name": "stderr",
     "output_type": "stream",
     "text": [
      "/Users/casy/anaconda/lib/python2.7/site-packages/ipykernel/__main__.py:1: SettingWithCopyWarning: \n",
      "A value is trying to be set on a copy of a slice from a DataFrame.\n",
      "Try using .loc[row_indexer,col_indexer] = value instead\n",
      "\n",
      "See the caveats in the documentation: http://pandas.pydata.org/pandas-docs/stable/indexing.html#indexing-view-versus-copy\n",
      "  if __name__ == '__main__':\n",
      "/Users/casy/anaconda/lib/python2.7/site-packages/ipykernel/__main__.py:2: SettingWithCopyWarning: \n",
      "A value is trying to be set on a copy of a slice from a DataFrame.\n",
      "Try using .loc[row_indexer,col_indexer] = value instead\n",
      "\n",
      "See the caveats in the documentation: http://pandas.pydata.org/pandas-docs/stable/indexing.html#indexing-view-versus-copy\n",
      "  from ipykernel import kernelapp as app\n"
     ]
    }
   ],
   "source": [
    "lmData['x'] = lmData.geometry.apply(lambda P: P.x)\n",
    "lmData['y'] = lmData.geometry.apply(lambda P: P.y)"
   ]
  },
  {
   "cell_type": "code",
   "execution_count": 136,
   "metadata": {
    "collapsed": false
   },
   "outputs": [
    {
     "data": {
      "text/html": [
       "<div>\n",
       "<table border=\"1\" class=\"dataframe\">\n",
       "  <thead>\n",
       "    <tr style=\"text-align: right;\">\n",
       "      <th></th>\n",
       "      <th>id</th>\n",
       "      <th>timestamp</th>\n",
       "      <th>lon</th>\n",
       "      <th>lat</th>\n",
       "      <th>tweet</th>\n",
       "      <th>user_id</th>\n",
       "      <th>rtwts</th>\n",
       "      <th>fvrts</th>\n",
       "      <th>application</th>\n",
       "      <th>source</th>\n",
       "      <th>ts</th>\n",
       "      <th>geometry</th>\n",
       "      <th>index_right</th>\n",
       "      <th>postalCode</th>\n",
       "      <th>x</th>\n",
       "      <th>y</th>\n",
       "    </tr>\n",
       "  </thead>\n",
       "  <tbody>\n",
       "    <tr>\n",
       "      <th>1</th>\n",
       "      <td>550441288076914688</td>\n",
       "      <td>1420088404</td>\n",
       "      <td>-74.003244</td>\n",
       "      <td>40.709564</td>\n",
       "      <td>“@WorIdStarComedy: this how niggas bout to be ...</td>\n",
       "      <td>420630924</td>\n",
       "      <td>0</td>\n",
       "      <td>0</td>\n",
       "      <td>Twitter for iPhone</td>\n",
       "      <td>M</td>\n",
       "      <td>2015-01-01 00:00:04</td>\n",
       "      <td>POINT (-74.003244 40.709564)</td>\n",
       "      <td>132</td>\n",
       "      <td>10038</td>\n",
       "      <td>-74.003244</td>\n",
       "      <td>40.709564</td>\n",
       "    </tr>\n",
       "    <tr>\n",
       "      <th>89</th>\n",
       "      <td>550441834447917056</td>\n",
       "      <td>1420088534</td>\n",
       "      <td>-74.017843</td>\n",
       "      <td>40.711333</td>\n",
       "      <td>The only way to go home and sleep. @ Battery P...</td>\n",
       "      <td>33046359</td>\n",
       "      <td>0</td>\n",
       "      <td>0</td>\n",
       "      <td>Instagram</td>\n",
       "      <td>M</td>\n",
       "      <td>2015-01-01 00:02:14</td>\n",
       "      <td>POINT (-74.017843 40.711333)</td>\n",
       "      <td>193</td>\n",
       "      <td>10280</td>\n",
       "      <td>-74.017843</td>\n",
       "      <td>40.711333</td>\n",
       "    </tr>\n",
       "    <tr>\n",
       "      <th>141</th>\n",
       "      <td>550442167135907840</td>\n",
       "      <td>1420088614</td>\n",
       "      <td>-74.009158</td>\n",
       "      <td>40.711317</td>\n",
       "      <td>I love New York🗽 http://t.co/CJADqtmZwf</td>\n",
       "      <td>727585926</td>\n",
       "      <td>0</td>\n",
       "      <td>0</td>\n",
       "      <td>Twitter for iPhone</td>\n",
       "      <td>M</td>\n",
       "      <td>2015-01-01 00:03:34</td>\n",
       "      <td>POINT (-74.009158 40.711317)</td>\n",
       "      <td>129</td>\n",
       "      <td>10007</td>\n",
       "      <td>-74.009158</td>\n",
       "      <td>40.711317</td>\n",
       "    </tr>\n",
       "  </tbody>\n",
       "</table>\n",
       "</div>"
      ],
      "text/plain": [
       "                     id   timestamp        lon        lat  \\\n",
       "1    550441288076914688  1420088404 -74.003244  40.709564   \n",
       "89   550441834447917056  1420088534 -74.017843  40.711333   \n",
       "141  550442167135907840  1420088614 -74.009158  40.711317   \n",
       "\n",
       "                                                 tweet    user_id  rtwts  \\\n",
       "1    “@WorIdStarComedy: this how niggas bout to be ...  420630924      0   \n",
       "89   The only way to go home and sleep. @ Battery P...   33046359      0   \n",
       "141           I love New York🗽 http://t.co/CJADqtmZwf  727585926      0   \n",
       "\n",
       "     fvrts         application source                  ts  \\\n",
       "1        0  Twitter for iPhone      M 2015-01-01 00:00:04   \n",
       "89       0           Instagram      M 2015-01-01 00:02:14   \n",
       "141      0  Twitter for iPhone      M 2015-01-01 00:03:34   \n",
       "\n",
       "                         geometry  index_right postalCode          x  \\\n",
       "1    POINT (-74.003244 40.709564)          132      10038 -74.003244   \n",
       "89   POINT (-74.017843 40.711333)          193      10280 -74.017843   \n",
       "141  POINT (-74.009158 40.711317)          129      10007 -74.009158   \n",
       "\n",
       "             y  \n",
       "1    40.709564  \n",
       "89   40.711333  \n",
       "141  40.711317  "
      ]
     },
     "execution_count": 136,
     "metadata": {},
     "output_type": "execute_result"
    }
   ],
   "source": [
    "lmData.head(3)"
   ]
  },
  {
   "cell_type": "code",
   "execution_count": 119,
   "metadata": {
    "collapsed": false
   },
   "outputs": [],
   "source": [
    "\n",
    "lmData[['x','y','ts','application']].to_csv('LowerManhattan/all_lower_manhattan.csv', encoding='utf8')"
   ]
  },
  {
   "cell_type": "markdown",
   "metadata": {},
   "source": [
    "## READ Access points location"
   ]
  },
  {
   "cell_type": "code",
   "execution_count": 121,
   "metadata": {
    "collapsed": false
   },
   "outputs": [],
   "source": [
    "ap = gp.read_file('../data/LM_shapefiles/AP_sites2/AP.shp')"
   ]
  },
  {
   "cell_type": "code",
   "execution_count": 122,
   "metadata": {
    "collapsed": false
   },
   "outputs": [],
   "source": [
    "ap.crs = {'init': 'epsg:4326', 'no_defs': True}\n",
    "lm.to_crs(epsg=4326, inplace=1)"
   ]
  },
  {
   "cell_type": "code",
   "execution_count": 123,
   "metadata": {
    "collapsed": true
   },
   "outputs": [],
   "source": [
    "ap.to_crs(epsg=2236, inplace=1)\n",
    "lm.to_crs(epsg=2236, inplace=1)"
   ]
  },
  {
   "cell_type": "code",
   "execution_count": 124,
   "metadata": {
    "collapsed": false
   },
   "outputs": [
    {
     "data": {
      "text/html": [
       "<div>\n",
       "<table border=\"1\" class=\"dataframe\">\n",
       "  <thead>\n",
       "    <tr style=\"text-align: right;\">\n",
       "      <th></th>\n",
       "      <th>AP</th>\n",
       "      <th>Active</th>\n",
       "      <th>Cluster_1</th>\n",
       "      <th>Gateway</th>\n",
       "      <th>Mac</th>\n",
       "      <th>Network</th>\n",
       "      <th>Network_ID</th>\n",
       "      <th>cluster</th>\n",
       "      <th>geometry</th>\n",
       "    </tr>\n",
       "  </thead>\n",
       "  <tbody>\n",
       "    <tr>\n",
       "      <th>0</th>\n",
       "      <td>125 Maiden Lane</td>\n",
       "      <td>true</td>\n",
       "      <td>2</td>\n",
       "      <td>true</td>\n",
       "      <td>00:18:0a:04:78:d6</td>\n",
       "      <td>Water Street Corridor</td>\n",
       "      <td>VwjXUcn</td>\n",
       "      <td>NaN</td>\n",
       "      <td>POINT (2595867.188942093 6034214.740908176)</td>\n",
       "    </tr>\n",
       "    <tr>\n",
       "      <th>1</th>\n",
       "      <td>135 John Street</td>\n",
       "      <td>false</td>\n",
       "      <td>NaN</td>\n",
       "      <td>00:18:0a:04:6e:fc</td>\n",
       "      <td>00:18:0a:04:78:a4</td>\n",
       "      <td>Water Street Corridor</td>\n",
       "      <td>VwjXUcn</td>\n",
       "      <td>NaN</td>\n",
       "      <td>POINT (2596149.294287925 6034572.026904316)</td>\n",
       "    </tr>\n",
       "    <tr>\n",
       "      <th>2</th>\n",
       "      <td>199 Water (replacement)</td>\n",
       "      <td>true</td>\n",
       "      <td>NaN</td>\n",
       "      <td>false</td>\n",
       "      <td>00:18:0a:04:04:8a</td>\n",
       "      <td>Water Street Corridor</td>\n",
       "      <td>VwjXUcn</td>\n",
       "      <td>NaN</td>\n",
       "      <td>POINT (2596292.218977133 6034497.722384385)</td>\n",
       "    </tr>\n",
       "  </tbody>\n",
       "</table>\n",
       "</div>"
      ],
      "text/plain": [
       "                        AP Active  Cluster_1            Gateway  \\\n",
       "0          125 Maiden Lane   true          2               true   \n",
       "1          135 John Street  false        NaN  00:18:0a:04:6e:fc   \n",
       "2  199 Water (replacement)   true        NaN              false   \n",
       "\n",
       "                 Mac                Network Network_ID  cluster  \\\n",
       "0  00:18:0a:04:78:d6  Water Street Corridor    VwjXUcn      NaN   \n",
       "1  00:18:0a:04:78:a4  Water Street Corridor    VwjXUcn      NaN   \n",
       "2  00:18:0a:04:04:8a  Water Street Corridor    VwjXUcn      NaN   \n",
       "\n",
       "                                      geometry  \n",
       "0  POINT (2595867.188942093 6034214.740908176)  \n",
       "1  POINT (2596149.294287925 6034572.026904316)  \n",
       "2  POINT (2596292.218977133 6034497.722384385)  "
      ]
     },
     "execution_count": 124,
     "metadata": {},
     "output_type": "execute_result"
    }
   ],
   "source": [
    "ap.head(3)"
   ]
  },
  {
   "cell_type": "code",
   "execution_count": 126,
   "metadata": {
    "collapsed": true
   },
   "outputs": [],
   "source": [
    "ap = ap[['AP','Network', 'geometry']]"
   ]
  },
  {
   "cell_type": "code",
   "execution_count": 154,
   "metadata": {
    "collapsed": true
   },
   "outputs": [],
   "source": [
    "ap25  = ap.copy()\n",
    "ap50  = ap.copy()\n",
    "ap100 = ap.copy()\n",
    "ap200 = ap.copy()"
   ]
  },
  {
   "cell_type": "code",
   "execution_count": 155,
   "metadata": {
    "collapsed": false
   },
   "outputs": [],
   "source": [
    "ap25.geometry  = ap.buffer(25, resolution=16)\n",
    "ap50.geometry  = ap.buffer(50, resolution=16)\n",
    "ap100.geometry = ap.buffer(100, resolution=16)\n",
    "ap200.geometry = ap.buffer(200, resolution=16)"
   ]
  },
  {
   "cell_type": "code",
   "execution_count": 156,
   "metadata": {
    "collapsed": true
   },
   "outputs": [],
   "source": [
    "ap25['range']  = 25\n",
    "ap50['range']  = 50\n",
    "ap100['range'] = 100\n",
    "ap200['range'] = 200"
   ]
  },
  {
   "cell_type": "code",
   "execution_count": 157,
   "metadata": {
    "collapsed": false
   },
   "outputs": [
    {
     "data": {
      "text/plain": [
       "<matplotlib.axes._subplots.AxesSubplot at 0x3571944d0>"
      ]
     },
     "execution_count": 157,
     "metadata": {},
     "output_type": "execute_result"
    },
    {
     "data": {
      "image/png": "[encoded data removed]",
      "text/plain": [
       "<matplotlib.figure.Figure at 0x35acfe110>"
      ]
     },
     "metadata": {},
     "output_type": "display_data"
    }
   ],
   "source": [
    "fig, ax = plt.subplots(figsize=(10,10))\n",
    "\n",
    "ap100.plot(ax=ax, alpha=.1)\n",
    "ap50.plot(ax=ax, alpha=.1)\n",
    "ap25.plot(ax=ax, alpha=.1)\n",
    "ap.plot(ax=ax)"
   ]
  },
  {
   "cell_type": "markdown",
   "metadata": {},
   "source": [
    "## SPATIAL JOINT"
   ]
  },
  {
   "cell_type": "code",
   "execution_count": 158,
   "metadata": {
    "collapsed": true
   },
   "outputs": [],
   "source": [
    "from geopandas.tools import sjoin"
   ]
  },
  {
   "cell_type": "code",
   "execution_count": 159,
   "metadata": {
    "collapsed": false
   },
   "outputs": [],
   "source": [
    "lmd = lmData[['geometry', 'application', 'postalCode','ts']]"
   ]
  },
  {
   "cell_type": "code",
   "execution_count": 160,
   "metadata": {
    "collapsed": true
   },
   "outputs": [],
   "source": [
    "lmd.to_crs(epsg=2236, inplace=1)"
   ]
  },
  {
   "cell_type": "code",
   "execution_count": 161,
   "metadata": {
    "collapsed": false
   },
   "outputs": [
    {
     "name": "stdout",
     "output_type": "stream",
     "text": [
      "{'init': 'epsg:2236', 'no_defs': True}\n",
      "{'init': 'epsg:2236', 'no_defs': True}\n"
     ]
    }
   ],
   "source": [
    "print lmd.crs\n",
    "print ap200.crs"
   ]
  },
  {
   "cell_type": "code",
   "execution_count": 169,
   "metadata": {
    "collapsed": false
   },
   "outputs": [
    {
     "data": {
      "text/plain": [
       "<matplotlib.axes._subplots.AxesSubplot at 0x4b8202410>"
      ]
     },
     "execution_count": 169,
     "metadata": {},
     "output_type": "execute_result"
    },
    {
     "data": {
      "image/png": "[encoded data removed]",
      "text/plain": [
       "<matplotlib.figure.Figure at 0x1ee415110>"
      ]
     },
     "metadata": {},
     "output_type": "display_data"
    }
   ],
   "source": [
    "fig, ax = plt.subplots(figsize=(4,4))\n",
    "\n",
    "ap200.plot(ax=ax)\n",
    "lmd.iloc[:100,:].plot(ax=ax)"
   ]
  },
  {
   "cell_type": "code",
   "execution_count": 171,
   "metadata": {
    "collapsed": false
   },
   "outputs": [],
   "source": [
    "lmd.reset_index(inplace=1)"
   ]
  },
  {
   "cell_type": "code",
   "execution_count": 202,
   "metadata": {
    "collapsed": true
   },
   "outputs": [],
   "source": [
    "def generate_Buffer(data, buf, r=200):\n",
    "    '''generate'''\n",
    "    d = sjoin(data, buf, how=\"inner\")\n",
    "    \n",
    "    d['x'] = d.geometry.apply(lambda P: P.x)\n",
    "    d['y'] = d.geometry.apply(lambda P: P.y)\n",
    "\n",
    "    d.drop(['index','geometry', 'index_right'],1, inplace=1)\n",
    "    print d.columns\n",
    "    print len(d)\n",
    "    d.to_csv('LowerManhattan/bufferData%d.csv' % r, encoding='utf8')"
   ]
  },
  {
   "cell_type": "code",
   "execution_count": 203,
   "metadata": {
    "collapsed": false
   },
   "outputs": [
    {
     "name": "stdout",
     "output_type": "stream",
     "text": [
      "Index([u'application', u'postalCode', u'ts', u'AP', u'Network', u'range', u'x',\n",
      "       u'y'],\n",
      "      dtype='object')\n",
      "45731\n"
     ]
    }
   ],
   "source": [
    "generate_Buffer(lmd, ap200, r=200)"
   ]
  },
  {
   "cell_type": "code",
   "execution_count": 204,
   "metadata": {
    "collapsed": false
   },
   "outputs": [
    {
     "name": "stdout",
     "output_type": "stream",
     "text": [
      "Index([u'application', u'postalCode', u'ts', u'AP', u'Network', u'range', u'x',\n",
      "       u'y'],\n",
      "      dtype='object')\n",
      "14645\n"
     ]
    }
   ],
   "source": [
    "generate_Buffer(lmd, ap100, r=100)"
   ]
  },
  {
   "cell_type": "code",
   "execution_count": 208,
   "metadata": {
    "collapsed": false
   },
   "outputs": [
    {
     "name": "stdout",
     "output_type": "stream",
     "text": [
      "Index([u'application', u'postalCode', u'ts', u'AP', u'Network', u'range', u'x',\n",
      "       u'y'],\n",
      "      dtype='object')\n",
      "4451\n"
     ]
    }
   ],
   "source": [
    "generate_Buffer(lmd, ap50, r=50)"
   ]
  },
  {
   "cell_type": "code",
   "execution_count": 207,
   "metadata": {
    "collapsed": false
   },
   "outputs": [
    {
     "name": "stdout",
     "output_type": "stream",
     "text": [
      "Index([u'application', u'postalCode', u'ts', u'AP', u'Network', u'range', u'x',\n",
      "       u'y'],\n",
      "      dtype='object')\n",
      "1105\n"
     ]
    }
   ],
   "source": [
    "generate_Buffer(lmd, ap25, r=25)"
   ]
  },
  {
   "cell_type": "code",
   "execution_count": null,
   "metadata": {
    "collapsed": true
   },
   "outputs": [],
   "source": []
  }
 ],
 "metadata": {
  "kernelspec": {
   "display_name": "Python 2",
   "language": "python",
   "name": "python2"
  },
  "language_info": {
   "codemirror_mode": {
    "name": "ipython",
    "version": 2
   },
   "file_extension": ".py",
   "mimetype": "text/x-python",
   "name": "python",
   "nbconvert_exporter": "python",
   "pygments_lexer": "ipython2",
   "version": "2.7.11"
  }
 },
 "nbformat": 4,
 "nbformat_minor": 0
}
