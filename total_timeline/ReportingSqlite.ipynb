{
 "cells": [
  {
   "cell_type": "code",
   "execution_count": 1,
   "metadata": {
    "collapsed": false
   },
   "outputs": [
    {
     "name": "stdout",
     "output_type": "stream",
     "text": [
      "Populating the interactive namespace from numpy and matplotlib\n"
     ]
    }
   ],
   "source": [
    "__author__ = \"Philipp Kats\"\n",
    "__date__ = \"2016_02_04\"\n",
    "\n",
    "%pylab inline\n",
    "import pylab as plt\n",
    "import pandas as pd\n",
    "import sqlite3\n",
    "import os"
   ]
  },
  {
   "cell_type": "code",
   "execution_count": 46,
   "metadata": {
    "collapsed": false
   },
   "outputs": [],
   "source": [
    "PWD = os.getenv('PWD')\n",
    "path = '/'.join(PWD.split('/')[:-1]) + '/CUSP_QC_twitter_scripts/data/aggregated/gnip_twitter.db'\n",
    "# path"
   ]
  },
  {
   "cell_type": "code",
   "execution_count": 19,
   "metadata": {
    "collapsed": true
   },
   "outputs": [],
   "source": [
    "conn = sqlite3.connect(path)\n",
    "all = conn.cursor().execute('SELECT * FROM tweets').fetchall()\n",
    "conn.close()"
   ]
  },
  {
   "cell_type": "code",
   "execution_count": 20,
   "metadata": {
    "collapsed": false
   },
   "outputs": [],
   "source": [
    "df = pd.DataFrame(all)"
   ]
  },
  {
   "cell_type": "code",
   "execution_count": 21,
   "metadata": {
    "collapsed": true
   },
   "outputs": [],
   "source": [
    "df.columns = ('id', 'utimestamp','lon','lat','text','uid','rtwtCount','fwrtCount','source')\n",
    "df['ts'] = pd.to_datetime(df.utimestamp, unit='s')\n",
    "df.set_index('id', inplace=1)"
   ]
  },
  {
   "cell_type": "code",
   "execution_count": 23,
   "metadata": {
    "collapsed": false
   },
   "outputs": [
    {
     "data": {
      "text/html": [
       "<div>\n",
       "<table border=\"1\" class=\"dataframe\">\n",
       "  <thead>\n",
       "    <tr style=\"text-align: right;\">\n",
       "      <th></th>\n",
       "      <th>utimestamp</th>\n",
       "      <th>lon</th>\n",
       "      <th>lat</th>\n",
       "      <th>text</th>\n",
       "      <th>uid</th>\n",
       "      <th>rtwtCount</th>\n",
       "      <th>fwrtCount</th>\n",
       "      <th>source</th>\n",
       "      <th>ts</th>\n",
       "    </tr>\n",
       "    <tr>\n",
       "      <th>id</th>\n",
       "      <th></th>\n",
       "      <th></th>\n",
       "      <th></th>\n",
       "      <th></th>\n",
       "      <th></th>\n",
       "      <th></th>\n",
       "      <th></th>\n",
       "      <th></th>\n",
       "      <th></th>\n",
       "    </tr>\n",
       "  </thead>\n",
       "  <tbody>\n",
       "    <tr>\n",
       "      <th>666043003149164545</th>\n",
       "      <td>1447650001</td>\n",
       "      <td>40.859396</td>\n",
       "      <td>-73.930999</td>\n",
       "      <td>Bae &amp;amp; I 💜 @ Maranello Restaurant &amp;amp; Lo...</td>\n",
       "      <td>239989824</td>\n",
       "      <td>0</td>\n",
       "      <td>0</td>\n",
       "      <td>Instagram</td>\n",
       "      <td>2015-11-16 05:00:01</td>\n",
       "    </tr>\n",
       "    <tr>\n",
       "      <th>666043003874643969</th>\n",
       "      <td>1447650001</td>\n",
       "      <td>40.726446</td>\n",
       "      <td>-74.001801</td>\n",
       "      <td>ニューヨーク/New York\\nNew York/United States at 7 e...</td>\n",
       "      <td>934798284</td>\n",
       "      <td>0</td>\n",
       "      <td>0</td>\n",
       "      <td>world7evening</td>\n",
       "      <td>2015-11-16 05:00:01</td>\n",
       "    </tr>\n",
       "    <tr>\n",
       "      <th>666043022170267648</th>\n",
       "      <td>1447650005</td>\n",
       "      <td>40.690147</td>\n",
       "      <td>-73.996359</td>\n",
       "      <td>I'm at @Hibino_brooklyn in Brooklyn, NY https:...</td>\n",
       "      <td>57466101</td>\n",
       "      <td>0</td>\n",
       "      <td>0</td>\n",
       "      <td>Foursquare</td>\n",
       "      <td>2015-11-16 05:00:05</td>\n",
       "    </tr>\n",
       "  </tbody>\n",
       "</table>\n",
       "</div>"
      ],
      "text/plain": [
       "                    utimestamp        lon        lat  \\\n",
       "id                                                     \n",
       "666043003149164545  1447650001  40.859396 -73.930999   \n",
       "666043003874643969  1447650001  40.726446 -74.001801   \n",
       "666043022170267648  1447650005  40.690147 -73.996359   \n",
       "\n",
       "                                                                 text  \\\n",
       "id                                                                      \n",
       "666043003149164545  Bae &amp; I 💜 @ Maranello Restaurant &amp; Lo...   \n",
       "666043003874643969  ニューヨーク/New York\\nNew York/United States at 7 e...   \n",
       "666043022170267648  I'm at @Hibino_brooklyn in Brooklyn, NY https:...   \n",
       "\n",
       "                          uid  rtwtCount  fwrtCount         source  \\\n",
       "id                                                                   \n",
       "666043003149164545  239989824          0          0      Instagram   \n",
       "666043003874643969  934798284          0          0  world7evening   \n",
       "666043022170267648   57466101          0          0     Foursquare   \n",
       "\n",
       "                                    ts  \n",
       "id                                      \n",
       "666043003149164545 2015-11-16 05:00:01  \n",
       "666043003874643969 2015-11-16 05:00:01  \n",
       "666043022170267648 2015-11-16 05:00:05  "
      ]
     },
     "execution_count": 23,
     "metadata": {},
     "output_type": "execute_result"
    }
   ],
   "source": [
    "df.head(3)"
   ]
  },
  {
   "cell_type": "code",
   "execution_count": 25,
   "metadata": {
    "collapsed": false
   },
   "outputs": [
    {
     "data": {
      "text/plain": [
       "13029"
      ]
     },
     "execution_count": 25,
     "metadata": {},
     "output_type": "execute_result"
    }
   ],
   "source": [
    "len(df)"
   ]
  },
  {
   "cell_type": "code",
   "execution_count": 27,
   "metadata": {
    "collapsed": false
   },
   "outputs": [
    {
     "data": {
      "text/plain": [
       "Instagram              9164\n",
       "Foursquare             1313\n",
       "511NY-Tweets            448\n",
       "Twitter for Android     341\n",
       "Twitter for iPhone      267\n",
       "Squarespace             252\n",
       "dlvr.it                 250\n",
       "Tweetbot for iΟS        145\n",
       "TTN NYC traffic         111\n",
       "COS App                  93\n",
       "Name: source, dtype: int64"
      ]
     },
     "execution_count": 27,
     "metadata": {},
     "output_type": "execute_result"
    }
   ],
   "source": [
    "df.source.value_counts().head(10)"
   ]
  },
  {
   "cell_type": "markdown",
   "metadata": {},
   "source": [
    "## REsample and get timeline"
   ]
  },
  {
   "cell_type": "code",
   "execution_count": 38,
   "metadata": {
    "collapsed": false
   },
   "outputs": [],
   "source": [
    "dft = df[['ts','uid']].set_index('ts').resample('D', how='count')"
   ]
  },
  {
   "cell_type": "code",
   "execution_count": 39,
   "metadata": {
    "collapsed": false
   },
   "outputs": [
    {
     "data": {
      "text/html": [
       "<div>\n",
       "<table border=\"1\" class=\"dataframe\">\n",
       "  <thead>\n",
       "    <tr style=\"text-align: right;\">\n",
       "      <th></th>\n",
       "      <th>uid</th>\n",
       "    </tr>\n",
       "    <tr>\n",
       "      <th>ts</th>\n",
       "      <th></th>\n",
       "    </tr>\n",
       "  </thead>\n",
       "  <tbody>\n",
       "    <tr>\n",
       "      <th>2015-11-16</th>\n",
       "      <td>9126</td>\n",
       "    </tr>\n",
       "    <tr>\n",
       "      <th>2015-11-17</th>\n",
       "      <td>3903</td>\n",
       "    </tr>\n",
       "  </tbody>\n",
       "</table>\n",
       "</div>"
      ],
      "text/plain": [
       "             uid\n",
       "ts              \n",
       "2015-11-16  9126\n",
       "2015-11-17  3903"
      ]
     },
     "execution_count": 39,
     "metadata": {},
     "output_type": "execute_result"
    }
   ],
   "source": [
    "dft"
   ]
  },
  {
   "cell_type": "code",
   "execution_count": 43,
   "metadata": {
    "collapsed": true
   },
   "outputs": [],
   "source": [
    "dft15 = df[['ts','uid']].set_index('ts').resample('15Min', how='count')"
   ]
  },
  {
   "cell_type": "code",
   "execution_count": 45,
   "metadata": {
    "collapsed": false
   },
   "outputs": [
    {
     "data": {
      "text/plain": [
       "<matplotlib.axes._subplots.AxesSubplot at 0x107fcf410>"
      ]
     },
     "execution_count": 45,
     "metadata": {},
     "output_type": "execute_result"
    },
    {
     "data": {
      "image/png": "[encoded data removed]",
      "text/plain": [
       "<matplotlib.figure.Figure at 0x107ec0ad0>"
      ]
     },
     "metadata": {},
     "output_type": "display_data"
    }
   ],
   "source": [
    "dft15.plot()"
   ]
  },
  {
   "cell_type": "code",
   "execution_count": null,
   "metadata": {
    "collapsed": true
   },
   "outputs": [],
   "source": []
  }
 ],
 "metadata": {
  "kernelspec": {
   "display_name": "Python 2",
   "language": "python",
   "name": "python2"
  },
  "language_info": {
   "codemirror_mode": {
    "name": "ipython",
    "version": 2
   },
   "file_extension": ".py",
   "mimetype": "text/x-python",
   "name": "python",
   "nbconvert_exporter": "python",
   "pygments_lexer": "ipython2",
   "version": "2.7.10"
  }
 },
 "nbformat": 4,
 "nbformat_minor": 0
}
