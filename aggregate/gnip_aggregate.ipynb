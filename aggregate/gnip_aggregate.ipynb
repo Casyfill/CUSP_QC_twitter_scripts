{
 "cells": [
  {
   "cell_type": "code",
   "execution_count": 178,
   "metadata": {
    "collapsed": false
   },
   "outputs": [],
   "source": [
    "__author__ = \"Philipp Kats\"\n",
    "__date__ = \"2016_02_01\"\n",
    "\n",
    "\n",
    "import pandas as pd\n",
    "import numpy as np\n",
    "import datetime\n",
    "import dateutil.parser\n",
    "import time\n",
    "import os\n",
    "\n",
    "import sqlite3"
   ]
  },
  {
   "cell_type": "code",
   "execution_count": 241,
   "metadata": {
    "collapsed": true
   },
   "outputs": [],
   "source": [
    "def adapt_datetime(ts):\n",
    "    return time.mktime(ts.timetuple())\n",
    "\n",
    "sqlite3.register_adapter(datetime.datetime, adapt_datetime)"
   ]
  },
  {
   "cell_type": "code",
   "execution_count": 180,
   "metadata": {
    "collapsed": true
   },
   "outputs": [],
   "source": [
    "PWD = os.getenv('PWD')\n",
    "\n",
    "path = '/Users/casy/Dropbox/CUSP/GRA/QQ_GRA/gnip/enviroment4gnip/job1/PTDataDownload/downloads'"
   ]
  },
  {
   "cell_type": "code",
   "execution_count": 181,
   "metadata": {
    "collapsed": true
   },
   "outputs": [],
   "source": [
    "def getFiles(folder, format, full=True):\n",
    "    for file in os.listdir(folder):\n",
    "        if file.endswith(format):\n",
    "            if full:\n",
    "                yield os.path.join(folder, file)\n",
    "            else:\n",
    "                yield file"
   ]
  },
  {
   "cell_type": "code",
   "execution_count": 182,
   "metadata": {
    "collapsed": true
   },
   "outputs": [],
   "source": [
    "files = getFiles(path, '.json.gz', full=True)"
   ]
  },
  {
   "cell_type": "code",
   "execution_count": 183,
   "metadata": {
    "collapsed": false
   },
   "outputs": [],
   "source": [
    "import gzip\n",
    "import json\n",
    "\n",
    "def parseJsonArrayFile(path):\n",
    "    with gzip.open(path, 'rb') as f:\n",
    "        lines = f.read().split('\\r')\n",
    "        records = []\n",
    "        for line in lines:\n",
    "            if len(line.strip())>0:\n",
    "                try:\n",
    "                    records.append( json.loads(line.strip()) )\n",
    "                except Exception, e:\n",
    "                    pass\n",
    "        return records\n",
    "\n",
    "\n",
    "def parseAll(paths):\n",
    "    records = []\n",
    "    for path in paths:\n",
    "        records.extend(parseJsonArrayFile(path))\n",
    "    \n",
    "    return records"
   ]
  },
  {
   "cell_type": "code",
   "execution_count": 184,
   "metadata": {
    "collapsed": false
   },
   "outputs": [],
   "source": [
    "l = parseJsonArrayFile('/Users/casy/Dropbox/CUSP/GRA/QQ_GRA/gnip/enviroment4gnip/job1/PTDataDownload/downloads/20151116-20151116_580pe24mwz_2015_11_16_00_10_activities.json.gz')"
   ]
  },
  {
   "cell_type": "code",
   "execution_count": 185,
   "metadata": {
    "collapsed": false
   },
   "outputs": [],
   "source": [
    "records = parseAll(files)"
   ]
  },
  {
   "cell_type": "code",
   "execution_count": 186,
   "metadata": {
    "collapsed": false
   },
   "outputs": [
    {
     "data": {
      "text/plain": [
       "21259"
      ]
     },
     "execution_count": 186,
     "metadata": {},
     "output_type": "execute_result"
    }
   ],
   "source": [
    "len(records)"
   ]
  },
  {
   "cell_type": "code",
   "execution_count": 187,
   "metadata": {
    "collapsed": false
   },
   "outputs": [
    {
     "data": {
      "text/plain": [
       "'\\nid\\ntimestamp (time)\\ngeostamp (tuple of coordinates)\\ntext\\nauthor uid\\nretweets\\nfavorites\\nauthor_data\\nsource\\n'"
      ]
     },
     "execution_count": 187,
     "metadata": {},
     "output_type": "execute_result"
    }
   ],
   "source": [
    "### MY_SCHEMA\n",
    "'''\n",
    "id\n",
    "timestamp (time)\n",
    "geostamp (tuple of coordinates)\n",
    "text\n",
    "author uid\n",
    "retweets\n",
    "favorites\n",
    "author_data\n",
    "source\n",
    "'''"
   ]
  },
  {
   "cell_type": "code",
   "execution_count": 264,
   "metadata": {
    "collapsed": false
   },
   "outputs": [],
   "source": [
    "def parseTweet(tweet, mode='dict'):\n",
    "    if 'geo' in tweet:\n",
    "        if mode=='dict':\n",
    "            return {'id':int(tweet['id'].split(':')[-1]), \n",
    "                 'timestamp': int(time.mktime(ts.timetuple(dateutil.parser.parse(tweet['postedTime'])))),\n",
    "                 'lon': tweet['geo']['coordinates'][0],\n",
    "                 'lat': tweet['geo']['coordinates'][1],\n",
    "                 'tweet':tweet['body'],\n",
    "                 'user_id':int(tweet['actor']['id'].split(':')[-1]),\n",
    "                 'rtwts':tweet['retweetCount'],\n",
    "                 'fvrts':tweet['favoritesCount'],\n",
    "                'source': tweet['generator']['displayName']}\n",
    "        \n",
    "        elif mode=='tpl':\n",
    "            return (int(tweet['id'].split(':')[-1]),\n",
    "                    int(time.mktime(dateutil.parser.parse(tweet['postedTime']).timetuple())),\n",
    "                    tweet['geo']['coordinates'][0],\n",
    "                    tweet['geo']['coordinates'][1],\n",
    "                    tweet['body'],\n",
    "                    int(tweet['actor']['id'].split(':')[-1]),\n",
    "                    tweet['retweetCount'],\n",
    "                    tweet['favoritesCount'],\n",
    "                    tweet['generator']['displayName'])\n",
    "    else:\n",
    "        pass\n",
    "#         print tweet.keys()\n",
    "\n"
   ]
  },
  {
   "cell_type": "code",
   "execution_count": 279,
   "metadata": {
    "collapsed": false
   },
   "outputs": [],
   "source": [
    "parcedRecords = [parseTweet(record, mode='tpl') for record in records if parseTweet(record, mode='tpl')!=None]"
   ]
  },
  {
   "cell_type": "code",
   "execution_count": 280,
   "metadata": {
    "collapsed": false
   },
   "outputs": [
    {
     "data": {
      "text/plain": [
       "13029"
      ]
     },
     "execution_count": 280,
     "metadata": {},
     "output_type": "execute_result"
    }
   ],
   "source": [
    "len(parcedRecords)"
   ]
  },
  {
   "cell_type": "code",
   "execution_count": 282,
   "metadata": {
    "collapsed": false
   },
   "outputs": [
    {
     "data": {
      "text/plain": [
       "(666404912830500865,\n",
       " 1447736287,\n",
       " 40.71098913,\n",
       " -74.00404355,\n",
       " u'#NYCmissed Hot latin guy on R train every morning - m4m (Grand Ave.) https://t.co/tsKMh0DBhR',\n",
       " 3073225894,\n",
       " 0,\n",
       " 0,\n",
       " u'dlvr.it')"
      ]
     },
     "execution_count": 282,
     "metadata": {},
     "output_type": "execute_result"
    }
   ],
   "source": [
    "parcedRecords[-1]"
   ]
  },
  {
   "cell_type": "code",
   "execution_count": 283,
   "metadata": {
    "collapsed": true
   },
   "outputs": [],
   "source": [
    "tweetE = '''CREATE TABLE IF NOT EXISTS tweets (id INTEGER PRIMARY KEY, \n",
    "                                               timestamp INTEGER, \n",
    "                                               lon REAL, lat REAL, \n",
    "                                               tweet TEXT, \n",
    "                                               user_id INTEGER, \n",
    "                                               rtwts INTEGER,\n",
    "                                               fvrts INTEGER,\n",
    "                                               source TEXT)'''"
   ]
  },
  {
   "cell_type": "code",
   "execution_count": 284,
   "metadata": {
    "collapsed": true
   },
   "outputs": [],
   "source": [
    "# usersE = '''CREATE TABLE users (id INTEGER, \n",
    "#                                 timestamp INTEGER, raw TEXT, CONSTRAINT pk PRIMARY KEY (id, timestamp))'''"
   ]
  },
  {
   "cell_type": "code",
   "execution_count": 285,
   "metadata": {
    "collapsed": false
   },
   "outputs": [],
   "source": [
    "def setup(tweets):\n",
    "    \n",
    "    conn = sqlite3.connect(PWD + '/gnip_twitter.db')\n",
    "    c = conn.cursor()\n",
    "    c.execute(tweetE)\n",
    "    c.executemany('INSERT OR IGNORE INTO tweets VALUES (?, ?, ?, ?, ?, ?, ?, ?, ?)', tweets )\n",
    "    conn.commit()\n",
    "    conn.close()\n",
    "\n"
   ]
  },
  {
   "cell_type": "code",
   "execution_count": 286,
   "metadata": {
    "collapsed": false
   },
   "outputs": [],
   "source": [
    "setup(parcedRecords)"
   ]
  },
  {
   "cell_type": "code",
   "execution_count": 287,
   "metadata": {
    "collapsed": false
   },
   "outputs": [
    {
     "data": {
      "text/plain": [
       "'/Users/casy/Dropbox/CUSP/GRA/QQ_GRA/code'"
      ]
     },
     "execution_count": 287,
     "metadata": {},
     "output_type": "execute_result"
    }
   ],
   "source": [
    "PWD"
   ]
  },
  {
   "cell_type": "code",
   "execution_count": null,
   "metadata": {
    "collapsed": true
   },
   "outputs": [],
   "source": []
  }
 ],
 "metadata": {
  "kernelspec": {
   "display_name": "Python 2",
   "language": "python",
   "name": "python2"
  },
  "language_info": {
   "codemirror_mode": {
    "name": "ipython",
    "version": 2
   },
   "file_extension": ".py",
   "mimetype": "text/x-python",
   "name": "python",
   "nbconvert_exporter": "python",
   "pygments_lexer": "ipython2",
   "version": "2.7.10"
  }
 },
 "nbformat": 4,
 "nbformat_minor": 0
}
